{
 "cells": [
  {
   "cell_type": "code",
   "execution_count": 1,
   "metadata": {},
   "outputs": [],
   "source": [
    "bold = '\\033[1m' \n",
    "end = '\\033[0m'\n",
    "\n",
    "import pandas as pd\n",
    "import numpy as np\n",
    "from matplotlib import pyplot as plt\n",
    "from IPython.display import Image, HTML, display\n",
    "import math"
   ]
  },
  {
   "cell_type": "code",
   "execution_count": null,
   "metadata": {},
   "outputs": [],
   "source": []
  },
  {
   "cell_type": "markdown",
   "metadata": {},
   "source": [
    "# `EXERCISES`"
   ]
  },
  {
   "cell_type": "markdown",
   "metadata": {},
   "source": [
    "# Exercise 5.1"
   ]
  },
  {
   "cell_type": "markdown",
   "metadata": {},
   "source": [
    "Revisit Example 5.1 in the text and define the two-dimensional random variable $(X_1,X_2)$ as follows: $X_1$ is the total number of heads, and $X_2$ is the total number of tails. Obtain the space, $V$, and determine the complete pdf, $f(x_1,x_2)$, for $x_1 = 0, 1, 2; x_2 = 0, 1, 2$, assuming equiprobable outcomes in the original sample space."
   ]
  },
  {
   "cell_type": "markdown",
   "metadata": {},
   "source": [
    "<hr>\n",
    "<span style=\"color: #990033;\">\n",
    "   \n",
    "### `Solution:`\n",
    "\n",
    "$(X_1, X_2) = \\{(0,2), (1,1), (2,0)\\}$\n",
    "\n",
    "<hr>"
   ]
  },
  {
   "cell_type": "code",
   "execution_count": null,
   "metadata": {},
   "outputs": [],
   "source": []
  },
  {
   "cell_type": "code",
   "execution_count": null,
   "metadata": {},
   "outputs": [],
   "source": []
  },
  {
   "cell_type": "markdown",
   "metadata": {},
   "source": [
    "# Exercise 5.2"
   ]
  },
  {
   "cell_type": "markdown",
   "metadata": {},
   "source": [
    "The two-dimensional random variable $(X_1, X_2)$ has the following joint pdf:\n",
    "\n",
    "$$\n",
    "\\begin{array}{ll}\n",
    "f(1,1) = {1\\over 4}; & f(2,1) = {3 \\over 8} \\\\\n",
    "f(1,2) = {1\\over 8}; & f(2,2) = {1 \\over 8} \\\\\n",
    "f(1,3) = {1\\over 16}; & f(2,3) = {1 \\over 16}\n",
    "\\end{array}\n",
    "$$\n",
    "\n",
    "(i) Determine the following probabilities: \n",
    "1. $P(X_1 \\ge X_2)$; \n",
    "2. $P(X_1 + X_2 = 4)$; \n",
    "3. $P(|X_2 - X_1| = 1)$; \n",
    "4. $P(X_1 + X_2$ is even)."
   ]
  },
  {
   "cell_type": "markdown",
   "metadata": {},
   "source": [
    "<hr>\n",
    "<span style=\"color: #990033;\">\n",
    "   \n",
    "### `Solution:`\n",
    "\n",
    "\n",
    "\n",
    "<hr>"
   ]
  },
  {
   "cell_type": "markdown",
   "metadata": {},
   "source": [
    "(ii) Obtain the joint cumulative distribution function, $F(x_1,x_2)$."
   ]
  },
  {
   "cell_type": "markdown",
   "metadata": {},
   "source": [
    "<hr>\n",
    "<span style=\"color: #990033;\">\n",
    "   \n",
    "### `Solution:`\n",
    "\n",
    "\n",
    "\n",
    "<hr>"
   ]
  },
  {
   "cell_type": "code",
   "execution_count": null,
   "metadata": {},
   "outputs": [],
   "source": []
  },
  {
   "cell_type": "code",
   "execution_count": null,
   "metadata": {},
   "outputs": [],
   "source": []
  },
  {
   "cell_type": "markdown",
   "metadata": {},
   "source": [
    "# Exercise 5.3"
   ]
  },
  {
   "cell_type": "markdown",
   "metadata": {},
   "source": [
    "In a game of chess, one player either wins, $W$, loses, $L$, or draws, $D$ (either by mutual agreement with the opponent, or as a result of a `stalemate`).  Consider a player participating in a two-game, pre-tournament qualification series:\n",
    "\n",
    "(i) Obtain the sample space, $\\Omega$"
   ]
  },
  {
   "cell_type": "markdown",
   "metadata": {},
   "source": [
    "<hr>\n",
    "<span style=\"color: #990033;\">\n",
    "   \n",
    "### `Solution:`\n",
    "\n",
    "\n",
    "\n",
    "<hr>"
   ]
  },
  {
   "cell_type": "markdown",
   "metadata": {},
   "source": [
    "(ii) Define the two-dimensional random variable $(X_1,X_2)$ where $X_1$ is the total number of wins, and $X_2$ is the total number of draws.  Obtain $V$ and, assuming equiprobable outcomes in the original sample space, determine the complete joint pdf, $f(x_1, x_2)$."
   ]
  },
  {
   "cell_type": "markdown",
   "metadata": {},
   "source": [
    "<hr>\n",
    "<span style=\"color: #990033;\">\n",
    "   \n",
    "### `Solution:`\n",
    "\n",
    "\n",
    "\n",
    "<hr>"
   ]
  },
  {
   "cell_type": "markdown",
   "metadata": {},
   "source": [
    "(iii) If the player is awarded 3 points for a win, 1 point for a draw and no point for a loss, define the random variable $Y$ as the total number of points assigned to a player at the end of the two-game preliminary round.  If a player needs at least 4 points to qualify, determine the probability of qualifying."
   ]
  },
  {
   "cell_type": "markdown",
   "metadata": {},
   "source": [
    "<hr>\n",
    "<span style=\"color: #990033;\">\n",
    "   \n",
    "### `Solution:`\n",
    "\n",
    "\n",
    "\n",
    "<hr>"
   ]
  },
  {
   "cell_type": "code",
   "execution_count": null,
   "metadata": {},
   "outputs": [],
   "source": []
  },
  {
   "cell_type": "code",
   "execution_count": null,
   "metadata": {},
   "outputs": [],
   "source": []
  },
  {
   "cell_type": "markdown",
   "metadata": {},
   "source": [
    "# Exercise 5.4"
   ]
  },
  {
   "cell_type": "markdown",
   "metadata": {},
   "source": [
    "Revisit Exercise 5.3 above but this time consider three players: Suzie, the superior player for whom the probability of winning a game, $p_W = 0.75$, the probability of drawing, $p_D = 0.2$ and the probability of losing, $p_L = 0.05$; Meredith, the mediocre player for whom $p_W = 0.5; p_D = 0.3; P_L = 0.2$; and Paula, the poor player, for whom $p_W = 0.2; p_D = 0.3; P_L = 0.5$. Determine the complete joint pdf for each player, $f_S(x_1, x_2)$, for Suzie, $f_M(x_1, x_2)$, for Meredith, and $f_P(x_1, x_2)$, for Paula; and from these, determine for each player, the probability that she qualifies for the tournament."
   ]
  },
  {
   "cell_type": "markdown",
   "metadata": {},
   "source": [
    "<hr>\n",
    "<span style=\"color: #990033;\">\n",
    "   \n",
    "### `Solution:`\n",
    "\n",
    "\n",
    "\n",
    "<hr>"
   ]
  },
  {
   "cell_type": "code",
   "execution_count": null,
   "metadata": {},
   "outputs": [],
   "source": []
  },
  {
   "cell_type": "code",
   "execution_count": null,
   "metadata": {},
   "outputs": [],
   "source": []
  },
  {
   "cell_type": "markdown",
   "metadata": {},
   "source": [
    "# Exercise 5.5"
   ]
  },
  {
   "cell_type": "markdown",
   "metadata": {},
   "source": [
    "The continuous random variables $X_1$ and $X_2$ have the joint pdf\n",
    "\n",
    "$$\n",
    "f(x,y) = \\left\\{\n",
    "\\begin{array}{ll}\n",
    "cx_1x_2(1-x_2); & 0 < x_1 < 2; 0 < x_2 < 1 \\\\\n",
    "0;  & \\mbox{elsewhere}\n",
    "\\end{array}\n",
    "\\right.\n",
    "$$\n",
    "\n",
    "(i) Find the value of $c$ if this is to be a valid pdf."
   ]
  },
  {
   "cell_type": "markdown",
   "metadata": {},
   "source": [
    "<hr>\n",
    "<span style=\"color: #990033;\">\n",
    "   \n",
    "### `Solution:`\n",
    "\n",
    "\n",
    "\n",
    "<hr>"
   ]
  },
  {
   "cell_type": "markdown",
   "metadata": {},
   "source": [
    "(ii) Determine $P(1 < x_1 < 2; 0.5 < x_2 < 1)$ and $P(x_1>1; x_2< 0.5)$."
   ]
  },
  {
   "cell_type": "markdown",
   "metadata": {},
   "source": [
    "<hr>\n",
    "<span style=\"color: #990033;\">\n",
    "   \n",
    "### `Solution:`\n",
    "\n",
    "\n",
    "\n",
    "<hr>"
   ]
  },
  {
   "cell_type": "markdown",
   "metadata": {},
   "source": [
    "(iii) Determine $F(x_1,x_2)$."
   ]
  },
  {
   "cell_type": "markdown",
   "metadata": {},
   "source": [
    "<hr>\n",
    "<span style=\"color: #990033;\">\n",
    "   \n",
    "### `Solution:`\n",
    "\n",
    "\n",
    "\n",
    "<hr>"
   ]
  },
  {
   "cell_type": "code",
   "execution_count": null,
   "metadata": {},
   "outputs": [],
   "source": []
  },
  {
   "cell_type": "code",
   "execution_count": null,
   "metadata": {},
   "outputs": [],
   "source": []
  },
  {
   "cell_type": "markdown",
   "metadata": {},
   "source": [
    "# Exercise 5.6"
   ]
  },
  {
   "cell_type": "markdown",
   "metadata": {},
   "source": [
    "Revisit Exercise 5.5.\n",
    "\n",
    "(i) Obtain the marginal pdfs $f_1(x_1), f_2(x_2)$, and the marginal means,\n",
    "$\\mu_{X_1}, \\mu_{X_2}$.  Are $X_1$ and $X_2$ independent?"
   ]
  },
  {
   "cell_type": "markdown",
   "metadata": {},
   "source": [
    "<hr>\n",
    "<span style=\"color: #990033;\">\n",
    "   \n",
    "### `Solution:`\n",
    "\n",
    "\n",
    "\n",
    "<hr>"
   ]
  },
  {
   "cell_type": "markdown",
   "metadata": {},
   "source": [
    "(ii) Obtain the conditional pdf's $f(x_1|x_2)$ and $f(x_2|x_1)$."
   ]
  },
  {
   "cell_type": "markdown",
   "metadata": {},
   "source": [
    "<hr>\n",
    "<span style=\"color: #990033;\">\n",
    "   \n",
    "### `Solution:`\n",
    "\n",
    "\n",
    "\n",
    "<hr>"
   ]
  },
  {
   "cell_type": "code",
   "execution_count": null,
   "metadata": {},
   "outputs": [],
   "source": []
  },
  {
   "cell_type": "code",
   "execution_count": null,
   "metadata": {},
   "outputs": [],
   "source": []
  },
  {
   "cell_type": "markdown",
   "metadata": {},
   "source": [
    "# Exercise 5.7"
   ]
  },
  {
   "cell_type": "markdown",
   "metadata": {},
   "source": [
    "The joint pdf $f(x_1, x_2)$ for a two-dimensional random variable is given by the following table:\\\\\n",
    "    \n",
    "<table><tr><td><img src=\"Prob5_7.png\" width=250></td></tr></table>\n",
    "\n",
    "(i) Obtain the marginal pdfs, $f_1(x_1)$ and $f_2(x_2)$, and determine whether or not $X_1$ and $X_2$ are independent."
   ]
  },
  {
   "cell_type": "markdown",
   "metadata": {},
   "source": [
    "<hr>\n",
    "<span style=\"color: #990033;\">\n",
    "   \n",
    "### `Solution:`\n",
    "\n",
    "\n",
    "\n",
    "<hr>"
   ]
  },
  {
   "cell_type": "markdown",
   "metadata": {},
   "source": [
    "(ii) Obtain the conditional pdfs $f(x_1|x_2)$ and $f(x_2|x_1)$. Describe in words what these results imply in terms of the original `experiments` and these random variables."
   ]
  },
  {
   "cell_type": "markdown",
   "metadata": {},
   "source": [
    "<hr>\n",
    "<span style=\"color: #990033;\">\n",
    "   \n",
    "### `Solution:`\n",
    "\n",
    "\n",
    "\n",
    "<hr>"
   ]
  },
  {
   "cell_type": "markdown",
   "metadata": {},
   "source": [
    "(iii) It is conjectured that this joint pdf is for an experiment involving tossing a fair coin twice, with $X_1$ as the total number of heads, and $X_2$ as the total number of tails.  Are the foregoing results consistent with this conjecture? Explain."
   ]
  },
  {
   "cell_type": "markdown",
   "metadata": {},
   "source": [
    "<hr>\n",
    "<span style=\"color: #990033;\">\n",
    "   \n",
    "### `Solution:`\n",
    "\n",
    "\n",
    "\n",
    "<hr>"
   ]
  },
  {
   "cell_type": "code",
   "execution_count": null,
   "metadata": {},
   "outputs": [],
   "source": []
  },
  {
   "cell_type": "code",
   "execution_count": null,
   "metadata": {},
   "outputs": [],
   "source": []
  },
  {
   "cell_type": "markdown",
   "metadata": {},
   "source": [
    "# Exercise 5.8"
   ]
  },
  {
   "cell_type": "markdown",
   "metadata": {},
   "source": [
    "Given the joint pdf:\n",
    "\n",
    "$$\n",
    "f(x_1,x_2) = \\left\\{\n",
    "\\begin{array}{ll}\n",
    "ce^{-(x_1 + x_2)}; & 0 <x_1< 1; 0 < x_2 < 2;\\\\\n",
    "0; & \\mbox{elsewhere}\n",
    "\\end{array}\\right.\n",
    "$$\n",
    "\n",
    "First obtain $c$, then obtain the marginal pdfs $f_1(x_1)$ and $f_2(x_2)$, and hence determine whether or not $X_1$ and $X_2$ are independent."
   ]
  },
  {
   "cell_type": "code",
   "execution_count": null,
   "metadata": {},
   "outputs": [],
   "source": []
  },
  {
   "cell_type": "code",
   "execution_count": null,
   "metadata": {},
   "outputs": [],
   "source": []
  },
  {
   "cell_type": "code",
   "execution_count": null,
   "metadata": {},
   "outputs": [],
   "source": []
  },
  {
   "cell_type": "markdown",
   "metadata": {},
   "source": [
    "# Exercise 5.9"
   ]
  },
  {
   "cell_type": "markdown",
   "metadata": {},
   "source": [
    "If the range of validity of the joint pdf in Exercise 5.8 and Eq (5.94) are modified to $0 <x_1 < \\infty$ and $0 <x_2 < \\infty$, obtain $c$ and the marginal pdf, and then determine whether or not these random variables are now independent."
   ]
  },
  {
   "cell_type": "code",
   "execution_count": null,
   "metadata": {},
   "outputs": [],
   "source": []
  },
  {
   "cell_type": "code",
   "execution_count": null,
   "metadata": {},
   "outputs": [],
   "source": []
  },
  {
   "cell_type": "code",
   "execution_count": null,
   "metadata": {},
   "outputs": [],
   "source": []
  },
  {
   "cell_type": "markdown",
   "metadata": {},
   "source": [
    "# Exercise 5.10"
   ]
  },
  {
   "cell_type": "markdown",
   "metadata": {},
   "source": [
    "Revisit Exercise 5.3.  From the joint pdf determine\n",
    "\n",
    "(i) $E[U(X_1,X_2)=X_1 + X_2]$."
   ]
  },
  {
   "cell_type": "code",
   "execution_count": null,
   "metadata": {},
   "outputs": [],
   "source": []
  },
  {
   "cell_type": "markdown",
   "metadata": {},
   "source": [
    "(ii) $E[U(X_1,X_2)=3X_1 + X_2]$.  Use this result to determine if the player will be expected to qualify or not."
   ]
  },
  {
   "cell_type": "code",
   "execution_count": null,
   "metadata": {},
   "outputs": [],
   "source": []
  },
  {
   "cell_type": "code",
   "execution_count": null,
   "metadata": {},
   "outputs": [],
   "source": []
  },
  {
   "cell_type": "code",
   "execution_count": null,
   "metadata": {},
   "outputs": [],
   "source": []
  },
  {
   "cell_type": "markdown",
   "metadata": {},
   "source": [
    "# Exercise 5.11"
   ]
  },
  {
   "cell_type": "markdown",
   "metadata": {},
   "source": [
    "For each of the three players in Exercise 5.4,\n",
    "\n",
    "(i) Determine the marginal pdfs, $f_1(x_1)$ and $f_2(x_2)$ and the marginal means $\\mu_{X_1}, \\mu_{X_2}$."
   ]
  },
  {
   "cell_type": "code",
   "execution_count": null,
   "metadata": {},
   "outputs": [],
   "source": []
  },
  {
   "cell_type": "markdown",
   "metadata": {},
   "source": [
    "(ii) Determine $E[U(X_1,X_2)=3X_1 + X_2]$ and use the result to determine which of the three players, if any, will be expected to qualify for the tournament."
   ]
  },
  {
   "cell_type": "code",
   "execution_count": null,
   "metadata": {},
   "outputs": [],
   "source": []
  },
  {
   "cell_type": "code",
   "execution_count": null,
   "metadata": {},
   "outputs": [],
   "source": []
  },
  {
   "cell_type": "code",
   "execution_count": null,
   "metadata": {},
   "outputs": [],
   "source": []
  },
  {
   "cell_type": "markdown",
   "metadata": {},
   "source": [
    "# Exercise 5.12"
   ]
  },
  {
   "cell_type": "markdown",
   "metadata": {},
   "source": [
    "Determine the covariance and correlation coefficient for the two random variables whose joint pdf, $f(x_1, x_2)$ is given in the table in Exercise 5.7."
   ]
  },
  {
   "cell_type": "code",
   "execution_count": null,
   "metadata": {},
   "outputs": [],
   "source": []
  },
  {
   "cell_type": "code",
   "execution_count": null,
   "metadata": {},
   "outputs": [],
   "source": []
  },
  {
   "cell_type": "code",
   "execution_count": null,
   "metadata": {},
   "outputs": [],
   "source": []
  },
  {
   "cell_type": "markdown",
   "metadata": {},
   "source": [
    "# Exercise 5.13"
   ]
  },
  {
   "cell_type": "markdown",
   "metadata": {},
   "source": [
    "For each of the three chess players in Exercise 5.4, Suzie, Meredith, and Paula, and from the joint pdf of each player's performance at the pre-tournament qualifying games, determine the covariance and correlation coefficients for each player.  Discuss what these results imply in terms of the relationship between wins and draws for each player."
   ]
  },
  {
   "cell_type": "code",
   "execution_count": null,
   "metadata": {},
   "outputs": [],
   "source": []
  },
  {
   "cell_type": "code",
   "execution_count": null,
   "metadata": {},
   "outputs": [],
   "source": []
  },
  {
   "cell_type": "code",
   "execution_count": null,
   "metadata": {},
   "outputs": [],
   "source": []
  },
  {
   "cell_type": "markdown",
   "metadata": {},
   "source": [
    "# Exercise 5.14"
   ]
  },
  {
   "cell_type": "markdown",
   "metadata": {},
   "source": [
    "The joint pdf for two random variables $X$ and $Y$ is given as:\n",
    "\n",
    "$$\n",
    "f(x,y) = \\left\\{\n",
    "\\begin{array}{ll}\n",
    "x+y; & 0 <x< 1; 0 < y < 1;\\\\\n",
    "0; & \\mbox{elsewhere}\n",
    "\\end{array}\\right.\n",
    "$$\n",
    "\n",
    "(i) Obtain $f(x|y$ and $f(y|x)$ and show that these two random variables are **not** independent."
   ]
  },
  {
   "cell_type": "code",
   "execution_count": null,
   "metadata": {},
   "outputs": [],
   "source": []
  },
  {
   "cell_type": "code",
   "execution_count": null,
   "metadata": {},
   "outputs": [],
   "source": []
  },
  {
   "cell_type": "code",
   "execution_count": null,
   "metadata": {},
   "outputs": [],
   "source": []
  }
 ],
 "metadata": {
  "kernelspec": {
   "display_name": "Python 3",
   "language": "python",
   "name": "python3"
  },
  "language_info": {
   "codemirror_mode": {
    "name": "ipython",
    "version": 3
   },
   "file_extension": ".py",
   "mimetype": "text/x-python",
   "name": "python",
   "nbconvert_exporter": "python",
   "pygments_lexer": "ipython3",
   "version": "3.6.4"
  }
 },
 "nbformat": 4,
 "nbformat_minor": 2
}
