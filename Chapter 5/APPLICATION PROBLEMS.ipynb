{
 "cells": [
  {
   "cell_type": "code",
   "execution_count": 1,
   "metadata": {},
   "outputs": [],
   "source": [
    "bold = '\\033[1m' \n",
    "end = '\\033[0m'\n",
    "\n",
    "import pandas as pd\n",
    "import numpy as np\n",
    "from matplotlib import pyplot as plt\n",
    "from IPython.display import Image, HTML, display\n",
    "import math"
   ]
  },
  {
   "cell_type": "code",
   "execution_count": null,
   "metadata": {},
   "outputs": [],
   "source": []
  },
  {
   "cell_type": "markdown",
   "metadata": {},
   "source": [
    "# `EXERCISES`"
   ]
  },
  {
   "cell_type": "markdown",
   "metadata": {},
   "source": [
    "# Exercise 5.15"
   ]
  },
  {
   "cell_type": "markdown",
   "metadata": {},
   "source": [
    "Refer to Application Problem 3.23 in Chapter 3, where\n",
    "the relationship between a blood assay used to determine lithium concentration in blood samples and lithium toxicity in 150 patients was presented in a table reproduced here for ease of reference.\n",
    "\n",
    "<table><tr><td><img src=\"Prob5_15.png\" width=300></td></tr></table>\n",
    "\n",
    "$A^+$ indicates high lithium concentrations\n",
    "in the blood assay and $A^-$ indicates low lithium concentration;  $L^+$ indicates confirmed Lithium toxicity and $L^-$ indicates **no** lithium toxicity.\n",
    "\n",
    "(i) In general, consider the assay result as the random variable $Y$ having two possible outcomes $y_1=A^+$, and $y_2=A^-$; and consider the true lithium toxicity status as the random variable $X$ also having having two possible outcomes $x_1=L^+$, and $x_2=L^-$. Now consider that the `relative frequencies` (or proportions) indicated in the data table can be approximately considered as close enough to true probabilities; convert the data table to a table of joint probability distribution $f(x,y)$.  What is the probability that the test method will produce the right result?"
   ]
  },
  {
   "cell_type": "code",
   "execution_count": null,
   "metadata": {},
   "outputs": [],
   "source": []
  },
  {
   "cell_type": "markdown",
   "metadata": {},
   "source": [
    "(ii)  From the table of the joint pdf, compute the following probabilities and explain what they mean in words in terms of the problem at hand: $f(y_2|x_2)$; $f(y_1|x_2)$; $f(y_2|x_1)$."
   ]
  },
  {
   "cell_type": "code",
   "execution_count": null,
   "metadata": {},
   "outputs": [],
   "source": []
  },
  {
   "cell_type": "code",
   "execution_count": null,
   "metadata": {},
   "outputs": [],
   "source": []
  },
  {
   "cell_type": "code",
   "execution_count": null,
   "metadata": {},
   "outputs": [],
   "source": []
  },
  {
   "cell_type": "markdown",
   "metadata": {},
   "source": [
    "# Exercise 5.16"
   ]
  },
  {
   "cell_type": "markdown",
   "metadata": {},
   "source": [
    "The reliability of the temperature control system for a commercial,\n",
    "highly exothermic polymer reactor presented in Example 5.2 in the text is known to depend on the\n",
    "lifetimes (in years) of the control hardware electronics, $X_1$,\n",
    "**and** of the control valve on the cooling water line, $X_2$; the joint pdf is:\n",
    "\n",
    "$$\n",
    "f(x_1, x_2) = \\left\\{\n",
    "\\begin{array}{ll}\n",
    "\\frac{1}{50} e^{-(0.2x_1 + 0.1x_2)}; & 0<x_1<\\infty \\\\\n",
    "& 0<x_2<\\infty \\\\\n",
    "0  & \\mbox{elsewhere}\n",
    "\\end{array}\n",
    "\\right.\n",
    "$$\n",
    "\n",
    "(i) Determine the probability that the control valve outlasts the control hardware electronics."
   ]
  },
  {
   "cell_type": "code",
   "execution_count": null,
   "metadata": {},
   "outputs": [],
   "source": []
  },
  {
   "cell_type": "markdown",
   "metadata": {},
   "source": [
    "(ii) Determine the converse probability that the controller hardware electronics outlast the control valve."
   ]
  },
  {
   "cell_type": "code",
   "execution_count": null,
   "metadata": {},
   "outputs": [],
   "source": []
  },
  {
   "cell_type": "markdown",
   "metadata": {},
   "source": [
    "(iii) If a component is replaced every time it fails, how frequently can one expect to replace the control valve, and how frequently can one expect to replace the controller hardware electronics?"
   ]
  },
  {
   "cell_type": "code",
   "execution_count": null,
   "metadata": {},
   "outputs": [],
   "source": []
  },
  {
   "cell_type": "markdown",
   "metadata": {},
   "source": [
    "(iv) If it costs \\$20,000 to replace the control hardware electronics and \\$10,000 to replace the control valve, how much should be budgeted over the next 20 years for keeping the control system functioning, assuming all other characteristics remain essentially the same over this period?"
   ]
  },
  {
   "cell_type": "code",
   "execution_count": null,
   "metadata": {},
   "outputs": [],
   "source": []
  },
  {
   "cell_type": "code",
   "execution_count": null,
   "metadata": {},
   "outputs": [],
   "source": []
  },
  {
   "cell_type": "code",
   "execution_count": null,
   "metadata": {},
   "outputs": [],
   "source": []
  },
  {
   "cell_type": "markdown",
   "metadata": {},
   "source": [
    "# Exercise 5.17"
   ]
  },
  {
   "cell_type": "markdown",
   "metadata": {},
   "source": [
    "In a major bio-vaccine research company, it is inevitable that workers are exposed to some hazardous, but highly treatable, disease causing agents.  According to papers filed with the Safety and Hazards Authorities of the state in which the facility is located, the treatment provided is tailored to the worker's age, (the variable, $X$: 0 if younger than 30 years; 1 if 31 years or older), and location in the facility (a surrogate for virulence of the proprietary strains used in various parts of the facility, represented by the variable $Y=1$, 2, 3 or 4.  The composition of the 2,500 employees at the company's research headquarters is shown in the table below:\n",
    "\n",
    "<table><tr><td><img src=\"Prob5_17.png\" width=400></td></tr></table>\n",
    "\n",
    "(i) If a worker is infected at random so that the outcome is the bivariate random variable $(X,Y)$ where $X$ has two outcomes, and $Y$ has four, obtain the pdf $f(x,y)$ from the given data (assuming each worker in each location has an equal chance of infection); and determine the marginal pdf's $f_1(x)$ and $f_2(y)$."
   ]
  },
  {
   "cell_type": "code",
   "execution_count": null,
   "metadata": {},
   "outputs": [],
   "source": []
  },
  {
   "cell_type": "markdown",
   "metadata": {},
   "source": [
    "(ii) What is the probability that a worker in need of treatment was infected in location 3 or 4 given that he/she is $<30$ years old?"
   ]
  },
  {
   "cell_type": "code",
   "execution_count": null,
   "metadata": {},
   "outputs": [],
   "source": []
  },
  {
   "cell_type": "markdown",
   "metadata": {},
   "source": [
    "(iii) If the cost of the treating each infected worker  (in dollars per year) is given by the expression\n",
    "\n",
    "$$\n",
    "C = 1500 - 100Y + 500 X\n",
    "$$\n",
    "\n",
    "how much should the company expect to spend per worker every year, assuming the worker composition remains the same year after year?"
   ]
  },
  {
   "cell_type": "code",
   "execution_count": null,
   "metadata": {},
   "outputs": [],
   "source": []
  },
  {
   "cell_type": "code",
   "execution_count": null,
   "metadata": {},
   "outputs": [],
   "source": []
  },
  {
   "cell_type": "code",
   "execution_count": null,
   "metadata": {},
   "outputs": [],
   "source": []
  },
  {
   "cell_type": "markdown",
   "metadata": {},
   "source": [
    "# Exercise 5.18"
   ]
  },
  {
   "cell_type": "markdown",
   "metadata": {},
   "source": [
    "A non-destructive quality control test on a military weapon system correctly detects a flaw in the central electronic guidance subunit if one exists, **or** correctly accepts the system as fully functional if no flaw exists, 85% of the time; it incorrectly identifies a flaw  when one does not exist (a false positive), 5% of the time, and incorrectly fails to detect a flaw when one exists (a false negative), 10% of the time.  When the test is repeated 5 times under mostly identical conditions, if $X_1$ is the number of times the test is correct, and $X_2$ is the number of times it registers a false positive, the joint pdf of these two random variables is given as (Eq 5.97):\n",
    "\n",
    "$$\n",
    "f(x_1,x_2) = \\frac{120}{x_1!x_2!}0.85^{x_1}0.05^{x_2}\n",
    "$$\n",
    "\n",
    "(i) Why is no consideration given in the expression in Eq (5.97) to the third random variable, $X_3$, the number of times the test registers a false negative?"
   ]
  },
  {
   "cell_type": "code",
   "execution_count": null,
   "metadata": {},
   "outputs": [],
   "source": []
  },
  {
   "cell_type": "markdown",
   "metadata": {},
   "source": [
    "(ii) From Eq (5.97}), generate a $5 \\times 5$ table of $f(x_1,x_2)$ for all the possible outcomes and from this obtain the marginal pdfs, $f_1(x_1)$ and $f_2(x_2)$.  Are these two random variables independent?"
   ]
  },
  {
   "cell_type": "code",
   "execution_count": null,
   "metadata": {},
   "outputs": [],
   "source": []
  },
  {
   "cell_type": "markdown",
   "metadata": {},
   "source": [
    "(iii) Determine the expected number of correct test results regardless of the other results; also determine the expected value of false positives regardless of other results"
   ]
  },
  {
   "cell_type": "code",
   "execution_count": null,
   "metadata": {},
   "outputs": [],
   "source": []
  },
  {
   "cell_type": "markdown",
   "metadata": {},
   "source": [
    "(iv) What is expected number of the total number of correct results **and** false positives?  Is this value the same as the sum of the expected values obtained in (iii)? Explain."
   ]
  },
  {
   "cell_type": "code",
   "execution_count": null,
   "metadata": {},
   "outputs": [],
   "source": []
  },
  {
   "cell_type": "code",
   "execution_count": null,
   "metadata": {},
   "outputs": [],
   "source": []
  },
  {
   "cell_type": "code",
   "execution_count": null,
   "metadata": {},
   "outputs": [],
   "source": []
  }
 ],
 "metadata": {
  "kernelspec": {
   "display_name": "Python 3",
   "language": "python",
   "name": "python3"
  },
  "language_info": {
   "codemirror_mode": {
    "name": "ipython",
    "version": 3
   },
   "file_extension": ".py",
   "mimetype": "text/x-python",
   "name": "python",
   "nbconvert_exporter": "python",
   "pygments_lexer": "ipython3",
   "version": "3.6.4"
  }
 },
 "nbformat": 4,
 "nbformat_minor": 2
}
