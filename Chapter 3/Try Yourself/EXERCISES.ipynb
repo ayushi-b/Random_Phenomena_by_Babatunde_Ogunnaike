{
 "cells": [
  {
   "cell_type": "code",
   "execution_count": 1,
   "metadata": {},
   "outputs": [],
   "source": [
    "import pandas as pd\n",
    "import numpy as np\n",
    "from matplotlib import pyplot as plt\n",
    "from IPython.display import Image, HTML, display\n",
    "import math"
   ]
  },
  {
   "cell_type": "code",
   "execution_count": null,
   "metadata": {},
   "outputs": [],
   "source": []
  },
  {
   "cell_type": "markdown",
   "metadata": {},
   "source": [
    "# `EXERCISES`"
   ]
  },
  {
   "cell_type": "markdown",
   "metadata": {},
   "source": [
    "# Exercise 3.1"
   ]
  },
  {
   "cell_type": "markdown",
   "metadata": {},
   "source": [
    "When two dice ––– one black  with white dots, the other black with white dots ––– are tossed once, simultaneously, and the number of dots shown on each die's top face after coming to rest are recorded as an ordered pair $(n_B, n_W)$, where $n_B$ is the number on the black die, and $n_W$ the number on the white die,\n",
    "\n",
    "**(i)** identify the **experiment**, what constitutes a **trial**, the **outcomes**, and the **sample space**."
   ]
  },
  {
   "cell_type": "code",
   "execution_count": null,
   "metadata": {},
   "outputs": [],
   "source": []
  },
  {
   "cell_type": "markdown",
   "metadata": {},
   "source": [
    "**(ii)** If the sum of the numbers on the two dice is $S$, i.e.,\n",
    "$$\n",
    "S = n_B + n_W,\n",
    "$$\n",
    "\n",
    "enumerate all the simple events associated with the observation $S = 7$."
   ]
  },
  {
   "cell_type": "code",
   "execution_count": null,
   "metadata": {},
   "outputs": [],
   "source": []
  },
  {
   "cell_type": "code",
   "execution_count": null,
   "metadata": {},
   "outputs": [],
   "source": []
  },
  {
   "cell_type": "markdown",
   "metadata": {},
   "source": [
    "# Exercise 3.2"
   ]
  },
  {
   "cell_type": "markdown",
   "metadata": {},
   "source": [
    "In an opinion poll, 20 individuals selected at random from a group of college students are asked to indicate which of three options –––*approve, disapprove, indifferent*–– best matches their individual opinions of a new campus policy.  Let $n_0$ be the number of indifferent students, $n_1$ the number that approve, and $n_2$ the number that disapprove, so that the outcome of one such opinion sample is the ordered triplet $(n_0, n_1, n_2)$.  Write mathematical expressions in terms of the numbers $n_0, n_1$, and $n_2$ for the following events:\n",
    "\n",
    "**(i)** $A=$ \\{Unanimous support for the policy\\}; and $A^*$, the complement of $A$."
   ]
  },
  {
   "cell_type": "code",
   "execution_count": null,
   "metadata": {},
   "outputs": [],
   "source": []
  },
  {
   "cell_type": "markdown",
   "metadata": {},
   "source": [
    "**(ii)** $B=$ \\{More students disapprove than approve\\}; and $B^*$."
   ]
  },
  {
   "cell_type": "code",
   "execution_count": null,
   "metadata": {},
   "outputs": [],
   "source": []
  },
  {
   "cell_type": "markdown",
   "metadata": {},
   "source": [
    "**(iii)** $C=$ \\{More students are indifferent than approve\\};"
   ]
  },
  {
   "cell_type": "code",
   "execution_count": null,
   "metadata": {},
   "outputs": [],
   "source": []
  },
  {
   "cell_type": "markdown",
   "metadata": {},
   "source": [
    "**(iv)** $D=$ \\{The majority of students are indifferent \\}."
   ]
  },
  {
   "cell_type": "code",
   "execution_count": null,
   "metadata": {},
   "outputs": [],
   "source": []
  },
  {
   "cell_type": "code",
   "execution_count": null,
   "metadata": {},
   "outputs": [],
   "source": []
  },
  {
   "cell_type": "markdown",
   "metadata": {},
   "source": [
    "# Exercise 3.3"
   ]
  },
  {
   "cell_type": "markdown",
   "metadata": {},
   "source": [
    "Given the following two sets $A$ and $B$:\n",
    "$$\n",
    "A = \\{x: x= 1, 3, 5, 7, \\ldots\\} \\\\\n",
    "B = \\{x: x= 0, 2, 4, 6, \\ldots\\}\n",
    "$$\n",
    "find $A \\cup B$ and $A \\cap B$. "
   ]
  },
  {
   "cell_type": "code",
   "execution_count": null,
   "metadata": {},
   "outputs": [],
   "source": []
  },
  {
   "cell_type": "code",
   "execution_count": null,
   "metadata": {},
   "outputs": [],
   "source": []
  },
  {
   "cell_type": "markdown",
   "metadata": {},
   "source": [
    "# Exercise 3.4"
   ]
  },
  {
   "cell_type": "markdown",
   "metadata": {},
   "source": [
    "Let $A_k = \\{x: 1/(k+1)\\le x \\le 1\\}$ for $k = 1, 2, 3, \\ldots$.  Find the\n",
    "set $B$ defined by:\n",
    "$$\n",
    "B = A_1 \\cup A_2 \\cup A_3 \\cup \\ldots = \\bigcup_{i=1}^{\\infty} A_i\n",
    "$$"
   ]
  },
  {
   "cell_type": "code",
   "execution_count": null,
   "metadata": {},
   "outputs": [],
   "source": []
  },
  {
   "cell_type": "code",
   "execution_count": null,
   "metadata": {},
   "outputs": [],
   "source": []
  },
  {
   "cell_type": "markdown",
   "metadata": {},
   "source": [
    "# Exercise 3.5"
   ]
  },
  {
   "cell_type": "markdown",
   "metadata": {},
   "source": [
    "For sets $A, B, C$, subsets of the universal set $\\Omega$, establish the following identities:\n",
    "\n",
    "$$\n",
    "(A \\cup B)^* = A^* \\cap B^* \\\\\n",
    "(A \\cap B)^* = A^* \\cup B^* \\\\\n",
    "A \\cap (B \\cup C) = (A \\cap B) \\cup (A \\cap C) \\\\\n",
    "A \\cup (B \\cap C) = (A \\cup B) \\cap (A \\cup C)\n",
    "$$"
   ]
  },
  {
   "cell_type": "code",
   "execution_count": null,
   "metadata": {},
   "outputs": [],
   "source": []
  },
  {
   "cell_type": "code",
   "execution_count": null,
   "metadata": {},
   "outputs": [],
   "source": []
  },
  {
   "cell_type": "markdown",
   "metadata": {},
   "source": [
    "# Exercise 3.6"
   ]
  },
  {
   "cell_type": "markdown",
   "metadata": {},
   "source": [
    "For every pair of sets $A, B$, subsets of the *Sample Space* $\\Omega$\n",
    "upon which the probability set function $P(.)$ has been defined, prove that:\n",
    "\n",
    "$$\n",
    "P(A \\cup B) = P(A) + P(B) - P(A \\cap B)\n",
    "$$"
   ]
  },
  {
   "cell_type": "code",
   "execution_count": null,
   "metadata": {},
   "outputs": [],
   "source": []
  },
  {
   "cell_type": "code",
   "execution_count": null,
   "metadata": {},
   "outputs": [],
   "source": []
  },
  {
   "cell_type": "markdown",
   "metadata": {},
   "source": [
    "# Exercise 3.7"
   ]
  },
  {
   "cell_type": "markdown",
   "metadata": {},
   "source": [
    "In a certain engineering research and development company, apart from the\n",
    "support staff which number 25, all other employees are either engineers or\n",
    "statisticians or both.  The total number of employees (including the support\n",
    "staff) is 100.  Of these, 50 are engineers, and 40 are statisticians; the number\n",
    "of employees that are both engineers and statisticians is not given.  Find the probability that  an employee chosen at random is **not** one of those classified as being both an engineer and a\n",
    "statistician."
   ]
  },
  {
   "cell_type": "code",
   "execution_count": null,
   "metadata": {},
   "outputs": [],
   "source": []
  },
  {
   "cell_type": "code",
   "execution_count": null,
   "metadata": {},
   "outputs": [],
   "source": []
  },
  {
   "cell_type": "markdown",
   "metadata": {},
   "source": [
    "# Exercise 3.8"
   ]
  },
  {
   "cell_type": "markdown",
   "metadata": {},
   "source": [
    "For every set $A$, let the set function $Q(.)$ be defined as follows:\n",
    "\n",
    "$$\n",
    "Q(A) = \\sum_{A} f(x)\n",
    "$$\n",
    "where\n",
    "$$\n",
    "f(x) = \\left(\\frac{2}{3}\\right) \\left( \\frac{1}{3}\\right)^x ; x = 0,1,2,\\ldots\n",
    "$$\n",
    "\n",
    "If $A_1 = \\{x: x= 0,1,2,3\\}$ and $A_2 = \\{x: x= 0,1,2,3, \\ldots\\}$ find $Q(A_1)$\n",
    "and $Q(A_2)$."
   ]
  },
  {
   "cell_type": "code",
   "execution_count": null,
   "metadata": {},
   "outputs": [],
   "source": []
  },
  {
   "cell_type": "code",
   "execution_count": null,
   "metadata": {},
   "outputs": [],
   "source": []
  },
  {
   "cell_type": "markdown",
   "metadata": {},
   "source": [
    "# Exercise 3.9"
   ]
  },
  {
   "cell_type": "markdown",
   "metadata": {},
   "source": [
    "Let the sample space for a certain experiment be $\\Omega=\\{\\omega: 0 <\n",
    "\\omega < \\infty\\}$.  Let $A \\subset \\Omega$ represent the event $A = \\{ \\omega:\n",
    "4 < \\omega < \\infty\\}$.  If the probability set function $P(A)$ is defined for\n",
    "any subset of the sample space according to:\n",
    "\n",
    "$$\n",
    "P(A) = \\int_A e^{-x} dx\n",
    "$$\n",
    "evaluate $P(A), P(A^*), P(A \\cup A^*)$"
   ]
  },
  {
   "cell_type": "code",
   "execution_count": null,
   "metadata": {},
   "outputs": [],
   "source": []
  },
  {
   "cell_type": "code",
   "execution_count": null,
   "metadata": {},
   "outputs": [],
   "source": []
  },
  {
   "cell_type": "markdown",
   "metadata": {},
   "source": [
    "# Exercise 3.10"
   ]
  },
  {
   "cell_type": "markdown",
   "metadata": {},
   "source": [
    "For the experiment of rolling two dice---one black  with white dots, the other black with white dots---once, simultaneously, presented in Exercise 3.1, first obtain $\\Omega$, the sample space, and, by assigning equal probability to each of the outcomes."
   ]
  },
  {
   "cell_type": "code",
   "execution_count": null,
   "metadata": {},
   "outputs": [],
   "source": []
  },
  {
   "cell_type": "markdown",
   "metadata": {},
   "source": [
    "determine the probability of the following events:\n",
    "\n",
    "(i) $A= \\{n_B + n_W = 7 \\}$, i.e. the sum is 7;"
   ]
  },
  {
   "cell_type": "code",
   "execution_count": null,
   "metadata": {},
   "outputs": [],
   "source": []
  },
  {
   "cell_type": "markdown",
   "metadata": {},
   "source": [
    "(ii) $B= \\{n_B < n_W \\}$;"
   ]
  },
  {
   "cell_type": "code",
   "execution_count": null,
   "metadata": {},
   "outputs": [],
   "source": []
  },
  {
   "cell_type": "markdown",
   "metadata": {},
   "source": [
    "(iii) $B^*$, the complement of $B$;"
   ]
  },
  {
   "cell_type": "code",
   "execution_count": null,
   "metadata": {},
   "outputs": [],
   "source": []
  },
  {
   "cell_type": "markdown",
   "metadata": {},
   "source": [
    "(iv) $C = \\{n_B = n_W \\}$, i.e. the two dice show the same number;"
   ]
  },
  {
   "cell_type": "code",
   "execution_count": null,
   "metadata": {},
   "outputs": [],
   "source": []
  },
  {
   "cell_type": "markdown",
   "metadata": {},
   "source": [
    "(v) $D = \\{n_B + n_W = 5 \\mbox{ or } 9\\}$."
   ]
  },
  {
   "cell_type": "code",
   "execution_count": null,
   "metadata": {},
   "outputs": [],
   "source": []
  },
  {
   "cell_type": "code",
   "execution_count": null,
   "metadata": {},
   "outputs": [],
   "source": []
  },
  {
   "cell_type": "markdown",
   "metadata": {},
   "source": [
    "# Exercise 3.11"
   ]
  },
  {
   "cell_type": "markdown",
   "metadata": {},
   "source": [
    "A black velvet bag contains three red balls and three green balls.  Each experiment involves drawing two balls at once, simultaneously, and recording their colors, $R$ for red, and $G$ for green.\n",
    "\n",
    "(i) Obtain the sample space, assuming that balls of the same color are indistinguishable."
   ]
  },
  {
   "cell_type": "code",
   "execution_count": null,
   "metadata": {},
   "outputs": [],
   "source": []
  },
  {
   "cell_type": "markdown",
   "metadata": {},
   "source": [
    "(ii) Upon assigning equal probability to each element in the sample space,  determine the probability of drawing two balls of different colors."
   ]
  },
  {
   "cell_type": "code",
   "execution_count": null,
   "metadata": {},
   "outputs": [],
   "source": []
  },
  {
   "cell_type": "markdown",
   "metadata": {},
   "source": [
    "(iii) If the balls are distinguishable and numbered from 1 to 6, and if the two balls are drawn sequentially, not simultaneously, now obtain the sample space and from this determine the probability of drawing two balls of different colors."
   ]
  },
  {
   "cell_type": "code",
   "execution_count": null,
   "metadata": {},
   "outputs": [],
   "source": []
  },
  {
   "cell_type": "code",
   "execution_count": null,
   "metadata": {},
   "outputs": [],
   "source": []
  },
  {
   "cell_type": "markdown",
   "metadata": {},
   "source": [
    "# Exercise 3.12"
   ]
  },
  {
   "cell_type": "markdown",
   "metadata": {},
   "source": [
    "An experiment is performed by selecting a card from an ordinary deck of 52\n",
    "playing cards.  The outcome, $\\omega$, is the type of card chosen, classified\n",
    "as: `Ace,` `King,` `Queen,` `Jack,` and `others.`  The\n",
    "random variable $X(\\omega)$ assigns the number 4 to the outcome if $\\omega$ is\n",
    "an `Ace;` $X(\\omega) = 3$ if the outcome is a `King`; $X(\\omega)=2$ if the\n",
    "outcome is a `Queen,` and $X(\\omega)=1$ if the outcome is a `Jack`;\n",
    "$X(\\omega)=0$ for all other outcomes.\n",
    "\n",
    "(i) What is the space $V$ of this random variable?"
   ]
  },
  {
   "cell_type": "code",
   "execution_count": null,
   "metadata": {},
   "outputs": [],
   "source": []
  },
  {
   "cell_type": "markdown",
   "metadata": {},
   "source": [
    "(ii) If the probability set function $P(\\Gamma)$ defined on the subsets of the\n",
    "original sample space $\\Omega$ assigns a probability $1/52$ to each of these\n",
    "outcomes, describe the induced probability set function $P_X(A)$ induced on all\n",
    "the subsets of the space $V$ by this random variable."
   ]
  },
  {
   "cell_type": "code",
   "execution_count": null,
   "metadata": {},
   "outputs": [],
   "source": []
  },
  {
   "cell_type": "markdown",
   "metadata": {},
   "source": [
    "(iii) Describe a physical (scientific or engineering) problem for which the\n",
    "above would be a good surrogate `model.`"
   ]
  },
  {
   "cell_type": "code",
   "execution_count": null,
   "metadata": {},
   "outputs": [],
   "source": []
  },
  {
   "cell_type": "code",
   "execution_count": null,
   "metadata": {},
   "outputs": [],
   "source": []
  },
  {
   "cell_type": "code",
   "execution_count": null,
   "metadata": {},
   "outputs": [],
   "source": []
  },
  {
   "cell_type": "markdown",
   "metadata": {},
   "source": [
    "# Exercise 3.13"
   ]
  },
  {
   "cell_type": "markdown",
   "metadata": {},
   "source": [
    "Obtain the sample space, $\\Omega$, for the experiment involving tossing a fair coin 4 times. Upon assigning equal probability to each outcome, determine the probabilities of obtaining, 0, 1, 2, 3, or 4 heads.  Confirm that your result is consistent with the postulate that the probability model for this phenomenon is given by the probability distribution function:\n",
    "    $$\n",
    "    f(x) = \\frac{n!}{x!(n-x)!}p^x (1-p)^{n-x}\n",
    "    $$\n",
    "    \n",
    "where $f(x)$ is the probability of obtaining $x$ heads in $n=4$ tosses, and $p= {1\\over2}$ is the probability of obtaining a head in a *single* toss of the coin. (See Chapter 8.)"
   ]
  },
  {
   "cell_type": "code",
   "execution_count": null,
   "metadata": {},
   "outputs": [],
   "source": []
  },
  {
   "cell_type": "code",
   "execution_count": null,
   "metadata": {},
   "outputs": [],
   "source": []
  },
  {
   "cell_type": "markdown",
   "metadata": {},
   "source": [
    "# Exercise 3.14"
   ]
  },
  {
   "cell_type": "markdown",
   "metadata": {},
   "source": [
    "In the fall of 2007,  $k$ students born in 1989 attended an all-freshman introductory general engineering class at the University of Delaware.  Confirm that if $p$ is the probability that **at least two** of the students have the same birthday then: \n",
    "<br> <br>\n",
    "    $$\n",
    "    1-p = \\frac{365!}{(365-k)!}{1 \\over (365)^k}\n",
    "    $$"
   ]
  },
  {
   "cell_type": "code",
   "execution_count": null,
   "metadata": {},
   "outputs": [],
   "source": []
  },
  {
   "cell_type": "markdown",
   "metadata": {},
   "source": [
    "Show that for a class with 23 or more students born in 1989, the probability of at least 2 students sharing the same birthday, is more than 1/2, i.e., if $k>23$ then $p>1/2$."
   ]
  },
  {
   "cell_type": "code",
   "execution_count": null,
   "metadata": {},
   "outputs": [],
   "source": []
  },
  {
   "cell_type": "code",
   "execution_count": null,
   "metadata": {},
   "outputs": [],
   "source": []
  },
  {
   "cell_type": "markdown",
   "metadata": {},
   "source": [
    "# Exercise 3.15"
   ]
  },
  {
   "cell_type": "markdown",
   "metadata": {},
   "source": [
    "Six simple events, with probabilities $P(E_1)= 0.11; P(E_2) = P(E_5) = 0.20; P(E_3) = 0.25; P(E_4) = 0.09; P(E_6) = 0.15$, constitute the entire set of outcomes of an experiment.  The following events are of interest: <br><br>\n",
    "$$\n",
    "A = \\{E_1, E_2\\}; \\; B = \\{E_2, E_3, E_4\\}; \\; C = \\{E_5, E_6\\}; \\; D= \\{ E_1, E_2, E_5 \\}\n",
    "$$\n",
    "\n",
    "Determine the following probabilities:\n",
    "\n",
    "(i) $P(A), P(B), P(C), P(D)$;\n"
   ]
  },
  {
   "cell_type": "code",
   "execution_count": null,
   "metadata": {},
   "outputs": [],
   "source": []
  },
  {
   "cell_type": "markdown",
   "metadata": {},
   "source": [
    "(ii) $P(A \\cup B), P(A\\cap B); P(A \\cup D), P(A \\cap D); P(B\\cup C), P(B\\cap C)$;"
   ]
  },
  {
   "cell_type": "code",
   "execution_count": null,
   "metadata": {},
   "outputs": [],
   "source": []
  },
  {
   "cell_type": "markdown",
   "metadata": {},
   "source": [
    "(iii) $P(B|A), P(A|B)$; $P(B|C), P(D|C)$"
   ]
  },
  {
   "cell_type": "code",
   "execution_count": null,
   "metadata": {},
   "outputs": [],
   "source": []
  },
  {
   "cell_type": "markdown",
   "metadata": {},
   "source": [
    "Which of the events $A, B, C$ and $D$ are mutually exclusive?"
   ]
  },
  {
   "cell_type": "code",
   "execution_count": null,
   "metadata": {},
   "outputs": [],
   "source": []
  },
  {
   "cell_type": "code",
   "execution_count": null,
   "metadata": {},
   "outputs": [],
   "source": []
  },
  {
   "cell_type": "markdown",
   "metadata": {},
   "source": [
    "# Exercise 3.16"
   ]
  },
  {
   "cell_type": "markdown",
   "metadata": {},
   "source": [
    "Assuming that giving birth to a boy or a girl is equally likely, and further, that no multiple births have occurred, first, determine the probability of a family having three boys in a row. Now consider the conjecture (based on empirical data) that, for a family that has already had two boys in a row, the probability of having a third boy is 0.8. Under these conditions, what is now the probability of a family having three boys in a row?"
   ]
  },
  {
   "cell_type": "code",
   "execution_count": null,
   "metadata": {},
   "outputs": [],
   "source": []
  },
  {
   "cell_type": "code",
   "execution_count": null,
   "metadata": {},
   "outputs": [],
   "source": []
  },
  {
   "cell_type": "markdown",
   "metadata": {},
   "source": [
    "# Exercise 3.17"
   ]
  },
  {
   "cell_type": "markdown",
   "metadata": {},
   "source": [
    "As a follow-up to the concept of independence of two events $A$ and $B$,\n",
    "\n",
    "(1) Event $A$ is said to be `attracted` to  event $B$ if\n",
    "\n",
    "        P(A|B) > P(A)\n",
    "\n",
    "        \n",
    "(2) Event $A$ is said to be `repelled` by event $B$ if\n",
    "\n",
    "        P(A|B) < P(A)\n",
    "        \n",
    "(Of course, when $P(A|B) = P(A)$, the two events have been previously identified as independent.)  Establish the result that if $B$ attracts $A$, then: \n",
    "\n",
    "(i) $A$ attracts $B$ (mutual attraction)"
   ]
  },
  {
   "cell_type": "code",
   "execution_count": null,
   "metadata": {},
   "outputs": [],
   "source": []
  },
  {
   "cell_type": "markdown",
   "metadata": {},
   "source": [
    "(ii) $B^*$ repels $A$."
   ]
  },
  {
   "cell_type": "code",
   "execution_count": null,
   "metadata": {},
   "outputs": [],
   "source": []
  },
  {
   "cell_type": "code",
   "execution_count": null,
   "metadata": {},
   "outputs": [],
   "source": []
  },
  {
   "cell_type": "markdown",
   "metadata": {},
   "source": [
    "# Exercise 3.18"
   ]
  },
  {
   "cell_type": "markdown",
   "metadata": {},
   "source": [
    "Show that if $A$ and $B$ are independent, then $A^*$ and $B^*$ are also independent."
   ]
  },
  {
   "cell_type": "code",
   "execution_count": null,
   "metadata": {},
   "outputs": [],
   "source": []
  },
  {
   "cell_type": "code",
   "execution_count": null,
   "metadata": {},
   "outputs": [],
   "source": []
  },
  {
   "cell_type": "markdown",
   "metadata": {},
   "source": [
    "# Exercise 3.19"
   ]
  },
  {
   "cell_type": "markdown",
   "metadata": {},
   "source": [
    "Show that for two events $A$ and $B$, $P(A \\cup B|A \\cap B) \\le P(A\\cap B|A)$. State the condition for equality."
   ]
  },
  {
   "cell_type": "markdown",
   "metadata": {},
   "source": [
    "`Note:  This question might be a misprint. The probability of LHS in the given statement is always 1 (proof of this result given below). It can not be **less than** the RHS in any case. The statement should be:`\n",
    "$$\n",
    "P(A \\cup B|A \\cap B) \\ge P(A\\cap B|A)\n",
    "$$"
   ]
  },
  {
   "cell_type": "code",
   "execution_count": null,
   "metadata": {},
   "outputs": [],
   "source": []
  },
  {
   "cell_type": "code",
   "execution_count": null,
   "metadata": {},
   "outputs": [],
   "source": []
  },
  {
   "cell_type": "markdown",
   "metadata": {},
   "source": [
    "# Exercise 3.20"
   ]
  },
  {
   "cell_type": "markdown",
   "metadata": {},
   "source": [
    "An exchange student from Switzerland, who is male, has been assigned to be your partner in an introductory psychology class. As part of a class assignment, he responds to your question about his family by stating only that he comes from a family of two children, without specifying whether he is the older or the younger.  What is the probability that his sibling is female? Assume equal probability of having a boy or girl.  Why does this result seem counterintuitive at first?"
   ]
  },
  {
   "cell_type": "code",
   "execution_count": null,
   "metadata": {},
   "outputs": [],
   "source": []
  },
  {
   "cell_type": "code",
   "execution_count": null,
   "metadata": {},
   "outputs": [],
   "source": []
  },
  {
   "cell_type": "markdown",
   "metadata": {},
   "source": [
    "# Exercise 3.21"
   ]
  },
  {
   "cell_type": "markdown",
   "metadata": {},
   "source": [
    "A system consisting of two components $A$ and $B$ that are connected in **series** functions if **both** of them  function.  If $P(A)$, the probability that component $A$ functions, is 0.99, and the  probability that component $B$ functions is 0.90, find the probability that this series system functions, assuming that whether one component functions or not is independent of the status of the other component.  If these components are connected in **parallel**, the system fails (i.e., will **not** function) only if **both** components fail.  Assuming independence, determine the probability that the parallel system functions.  Which probability is higher and why is it reasonable to expect a higher probability from the system in question?"
   ]
  },
  {
   "cell_type": "code",
   "execution_count": null,
   "metadata": {},
   "outputs": [],
   "source": []
  },
  {
   "cell_type": "code",
   "execution_count": null,
   "metadata": {},
   "outputs": [],
   "source": []
  },
  {
   "cell_type": "markdown",
   "metadata": {},
   "source": [
    "# Exercise 3.22"
   ]
  },
  {
   "cell_type": "markdown",
   "metadata": {},
   "source": [
    "The functioning status of a complex system that consists of several components arranged in series and parallel and with cross-links (i.e., whether the system functions or not) can be determined from the status of a `keystone` component,  $C_k$.  If the probability that the keystone component for a particular system functions is given as $P(C_k) = 0.9$ and the probability that the the system function when the keystone functions, $P(S|C_k)$, is given as 0.9, with the complementary probability that the system functions when the keystone **does not** function, $P(S|C^*_k)$, given as 0.8, find the unconditional probability, $P(S)$, that the system functions."
   ]
  },
  {
   "cell_type": "code",
   "execution_count": null,
   "metadata": {},
   "outputs": [],
   "source": []
  },
  {
   "cell_type": "code",
   "execution_count": null,
   "metadata": {},
   "outputs": [],
   "source": []
  }
 ],
 "metadata": {
  "kernelspec": {
   "display_name": "Python 3",
   "language": "python",
   "name": "python3"
  },
  "language_info": {
   "codemirror_mode": {
    "name": "ipython",
    "version": 3
   },
   "file_extension": ".py",
   "mimetype": "text/x-python",
   "name": "python",
   "nbconvert_exporter": "python",
   "pygments_lexer": "ipython3",
   "version": "3.6.4"
  }
 },
 "nbformat": 4,
 "nbformat_minor": 2
}
