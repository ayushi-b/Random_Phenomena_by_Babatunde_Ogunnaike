{
 "cells": [
  {
   "cell_type": "code",
   "execution_count": 1,
   "metadata": {},
   "outputs": [],
   "source": [
    "bold = '\\033[1m' \n",
    "end = '\\033[0m'\n",
    "\n",
    "import pandas as pd\n",
    "import numpy as np\n",
    "from matplotlib import pyplot as plt\n",
    "from IPython.display import Image \n",
    "import math\n",
    "plt.style.use('seaborn-dark-palette')"
   ]
  },
  {
   "cell_type": "code",
   "execution_count": 2,
   "metadata": {},
   "outputs": [],
   "source": [
    "table1_1 = pd.read_excel('media/Chapter1.xlsx', sheet_name='Table1.1')\n",
    "table1_2 = pd.read_excel('media/Chapter1.xlsx', sheet_name='Table1.2')\n",
    "table1_3 = pd.read_excel('media/Chapter1.xlsx', sheet_name='Table1.3')\n",
    "table1_4 = pd.read_excel('media/Chapter1.xlsx', sheet_name='Table1.4')\n",
    "table1_5 = pd.read_excel('media/Chapter1.xlsx', sheet_name='Table1.5')"
   ]
  },
  {
   "cell_type": "code",
   "execution_count": 3,
   "metadata": {
    "scrolled": true
   },
   "outputs": [
    {
     "name": "stdout",
     "output_type": "stream",
     "text": [
      "        YA       YB\n",
      "0  74.0422  75.7523\n",
      "1  75.2921  68.4104\n",
      "2  75.6269  74.1911\n",
      "3  75.9191  68.1020\n",
      "4  77.2113  68.1002\n",
      "(50, 2)\n"
     ]
    }
   ],
   "source": [
    "print(table1_1.head())\n",
    "print(table1_1.shape)"
   ]
  },
  {
   "cell_type": "code",
   "execution_count": 4,
   "metadata": {},
   "outputs": [
    {
     "name": "stdout",
     "output_type": "stream",
     "text": [
      "   Inclusions\n",
      "0           0\n",
      "1           2\n",
      "2           1\n",
      "3           1\n",
      "4           2\n",
      "(60, 1)\n"
     ]
    }
   ],
   "source": [
    "print(table1_2.head())\n",
    "print(table1_2.shape)"
   ]
  },
  {
   "cell_type": "code",
   "execution_count": 5,
   "metadata": {},
   "outputs": [
    {
     "name": "stdout",
     "output_type": "stream",
     "text": [
      "   interval_start  interval_stop  Frequency  Relative Frequency\n",
      "0           71.51           72.5          1                0.02\n",
      "1           72.51           73.5          2                0.04\n",
      "2           73.51           74.5          9                0.18\n",
      "3           74.51           75.5         17                0.34\n",
      "4           75.51           76.5          7                0.14\n",
      "(8, 4)\n"
     ]
    }
   ],
   "source": [
    "print(table1_3.head())\n",
    "print(table1_3.shape)"
   ]
  },
  {
   "cell_type": "code",
   "execution_count": 6,
   "metadata": {
    "scrolled": true
   },
   "outputs": [
    {
     "name": "stdout",
     "output_type": "stream",
     "text": [
      "   interval_start  interval_stop  Frequency  Relative Frequency\n",
      "0           66.51           67.5          1                0.02\n",
      "1           67.51           68.5          3                0.06\n",
      "2           68.51           69.5          4                0.08\n",
      "3           69.51           70.5          8                0.16\n",
      "4           70.51           71.5          4                0.08\n",
      "(13, 4)\n"
     ]
    }
   ],
   "source": [
    "print(table1_4.head())\n",
    "print(table1_4.shape)"
   ]
  },
  {
   "cell_type": "code",
   "execution_count": 7,
   "metadata": {},
   "outputs": [
    {
     "name": "stdout",
     "output_type": "stream",
     "text": [
      "   x  Frequency  Relative Frequency\n",
      "0  0         22               0.367\n",
      "1  1         23               0.383\n",
      "2  2         11               0.183\n",
      "3  3          1               0.017\n",
      "4  4          2               0.033\n",
      "(7, 3)\n"
     ]
    }
   ],
   "source": [
    "print(table1_5.head())\n",
    "print(table1_5.shape)"
   ]
  },
  {
   "cell_type": "code",
   "execution_count": null,
   "metadata": {},
   "outputs": [],
   "source": []
  },
  {
   "cell_type": "code",
   "execution_count": null,
   "metadata": {},
   "outputs": [],
   "source": []
  },
  {
   "cell_type": "markdown",
   "metadata": {},
   "source": [
    "# `EXERCISES`"
   ]
  },
  {
   "cell_type": "markdown",
   "metadata": {},
   "source": [
    "# Exercise 1.1"
   ]
  },
  {
   "cell_type": "markdown",
   "metadata": {},
   "source": [
    "The variance of a collection of $n$ data points, $y_1, y_2, \\ldots, y_n$, is defined as:\n",
    "<br> <br>\n",
    "    $$ s^2 = \\frac{\\sum_{i=1}^n(y_i - \\bar{y})^2}{n-1} $$ \n",
    "    \n",
    "where $\\bar{y}$ is the arithmetic average of the data set. From the yield data in Table 1.1, obtain the variances $s^2_A$ and $s^2_B$ for the $Y_A$ and $Y_B$ data sets, respectively.  Which  is greater, $s^2_A$ or $s^2_B$?\n",
    "\n",
    "<table><tr><td><img src='../media/Table1_1.png' width=200></td></tr></table>"
   ]
  },
  {
   "cell_type": "code",
   "execution_count": null,
   "metadata": {},
   "outputs": [],
   "source": []
  },
  {
   "cell_type": "code",
   "execution_count": null,
   "metadata": {},
   "outputs": [],
   "source": []
  },
  {
   "cell_type": "markdown",
   "metadata": {},
   "source": [
    "# Exercise 1.2"
   ]
  },
  {
   "cell_type": "markdown",
   "metadata": {},
   "source": [
    "Even though the data sets in Table 1.1 were not generated in pairs, obtain the 50 differences,\n",
    "<br> <br>\n",
    "    $$\n",
    "    d_i = y_{A_i} - y_{B_i}\\,; \\,\\,\\, i = 1, 2, \\ldots, 50,\n",
    "    $$\n",
    "<br>\n",
    "for corresponding values of $Y_A$ and $Y_B$ as presented in this table.  Obtain a histogram of $d_i$ and compute the arithmetic average,\n",
    "<br> <br>\n",
    "    $$\n",
    "    \\bar{d} = \\frac{1}{n}\\sum_{i=1}^n d_i.\n",
    "    $$\n",
    "\n",
    "What do these results suggest about the possibility that $Y_A$ may be greater than $Y_B$? "
   ]
  },
  {
   "cell_type": "markdown",
   "metadata": {},
   "source": [
    "\n"
   ]
  },
  {
   "cell_type": "code",
   "execution_count": null,
   "metadata": {},
   "outputs": [],
   "source": []
  },
  {
   "cell_type": "code",
   "execution_count": null,
   "metadata": {},
   "outputs": [],
   "source": []
  },
  {
   "cell_type": "markdown",
   "metadata": {},
   "source": [
    "# Exercise 1.3"
   ]
  },
  {
   "cell_type": "markdown",
   "metadata": {},
   "source": [
    "A set of theoretical results state that, for $d_i$ and $\\bar{d}$ (defined in Exercise 1.2), and variance $s^2$ (defined in Exercise 1.1), <br> <br>\n",
    "$$\n",
    "    \\bar{d} = \\bar{y}_A - \\bar{y}_B\n",
    "    $$ <br>\n",
    "    $$\n",
    "    s^2_d = s^2_A + s^2_B\n",
    "    $$\n",
    "    \n",
    "Confirm these results specifically for the data in Table 1.1"
   ]
  },
  {
   "cell_type": "code",
   "execution_count": null,
   "metadata": {},
   "outputs": [],
   "source": []
  },
  {
   "cell_type": "code",
   "execution_count": null,
   "metadata": {},
   "outputs": [],
   "source": []
  },
  {
   "cell_type": "markdown",
   "metadata": {},
   "source": [
    "# Exercise 1.4"
   ]
  },
  {
   "cell_type": "markdown",
   "metadata": {},
   "source": [
    "From the data in Table 1.2, obtain $s^2_x$, the variance of the inclusions.\n",
    "\n",
    "<table><tr><td><img src='../media/Table1_2.png' width=300></td></tr></table>"
   ]
  },
  {
   "cell_type": "code",
   "execution_count": null,
   "metadata": {},
   "outputs": [],
   "source": []
  },
  {
   "cell_type": "code",
   "execution_count": null,
   "metadata": {},
   "outputs": [],
   "source": []
  },
  {
   "cell_type": "markdown",
   "metadata": {},
   "source": [
    "# Exercise 1.5"
   ]
  },
  {
   "cell_type": "markdown",
   "metadata": {},
   "source": [
    "The random variable, $X$, representing the number of inclusions, is purported to be a Poisson random variable .  If true, then the average, $\\bar{x}$, and variance, $s^2_x$, are theoretically equal.  Compare the  values computed for these two quantities from the data set in  Table 1.2.  What do these results suggest about the possibility that $X$ may in fact be a Poisson random variable?"
   ]
  },
  {
   "cell_type": "code",
   "execution_count": null,
   "metadata": {},
   "outputs": [],
   "source": []
  },
  {
   "cell_type": "code",
   "execution_count": null,
   "metadata": {},
   "outputs": [],
   "source": []
  },
  {
   "cell_type": "markdown",
   "metadata": {},
   "source": [
    "# Exercise 1.6"
   ]
  },
  {
   "cell_type": "markdown",
   "metadata": {},
   "source": [
    "Using a bin size of 0.75, obtain relative frequencies for $Y_A$ and $Y_B$ data and the corresponding histograms. Repeat this exercise for a bin size of 2.0. Compare these two sets of histograms with the corresponding histograms in Figs 12.8 and 1.2.\n",
    "\n",
    "<table><tr><td><img src='../media/Fig12_8.png' width=400></td></tr></table>"
   ]
  },
  {
   "cell_type": "code",
   "execution_count": null,
   "metadata": {},
   "outputs": [],
   "source": []
  },
  {
   "cell_type": "markdown",
   "metadata": {},
   "source": [
    "Compare $Y_B$ data with histogram in Fig 1.2\n",
    "\n",
    "<table><tr><td><img src='../media/Fig1_2.png' width=400></td></tr></table>"
   ]
  },
  {
   "cell_type": "code",
   "execution_count": null,
   "metadata": {},
   "outputs": [],
   "source": []
  },
  {
   "cell_type": "code",
   "execution_count": null,
   "metadata": {},
   "outputs": [],
   "source": []
  },
  {
   "cell_type": "markdown",
   "metadata": {},
   "source": [
    "# Exercise 1.7"
   ]
  },
  {
   "cell_type": "markdown",
   "metadata": {},
   "source": [
    "From the frequency distribution in Table 12.3 (same as table 1.3) and the  values computed for the average, $\\bar{y}_A$, and variance, $s^2_A$ of the yield data set, $Y_A$, determine the percentage of the data contained in the interval $\\bar{y}_A \\pm 1.96 s_A$, where $s_A$ is the positive square root of the variance, $s^2_A$.\n",
    "\n",
    "<table><tr><td><img src='../media/Table1_3.png' width=300></td></tr></table>"
   ]
  },
  {
   "cell_type": "code",
   "execution_count": null,
   "metadata": {},
   "outputs": [],
   "source": []
  },
  {
   "cell_type": "code",
   "execution_count": null,
   "metadata": {},
   "outputs": [],
   "source": []
  },
  {
   "cell_type": "markdown",
   "metadata": {},
   "source": [
    "# Exercise 1.8"
   ]
  },
  {
   "cell_type": "markdown",
   "metadata": {},
   "source": [
    "Repeat Exercise 1.7 for the $Y_B$ data in  Table 1.4. Determine the percentage of the data contained in the interval $\\bar{y}_B \\pm 1.96 s_B$.\n",
    "\n",
    "<table><tr><td><img src='../media/Table1_4.png' width=300></td></tr></table>"
   ]
  },
  {
   "cell_type": "code",
   "execution_count": null,
   "metadata": {},
   "outputs": [],
   "source": []
  },
  {
   "cell_type": "code",
   "execution_count": null,
   "metadata": {},
   "outputs": [],
   "source": []
  },
  {
   "cell_type": "markdown",
   "metadata": {},
   "source": [
    "# Exercise 1.9"
   ]
  },
  {
   "cell_type": "markdown",
   "metadata": {},
   "source": [
    "From Table 1.5 determine the value of $x$ such that only 5% of the data exceeds this value.\n",
    "\n",
    "<table><tr><td><img src='../media/Table1_5.png' width=300></td></tr></table>"
   ]
  },
  {
   "cell_type": "code",
   "execution_count": null,
   "metadata": {},
   "outputs": [],
   "source": []
  },
  {
   "cell_type": "code",
   "execution_count": null,
   "metadata": {},
   "outputs": [],
   "source": []
  },
  {
   "cell_type": "markdown",
   "metadata": {},
   "source": [
    "# Exercise 1.10"
   ]
  },
  {
   "cell_type": "markdown",
   "metadata": {},
   "source": [
    "Using $\\mu=75.52$ and $\\sigma= 1.43$, compute theoretical values of the function in Eq 4.155 (also Eq 1.3) given below <br><br>\n",
    "$$\n",
    "f(y|\\mu, \\sigma) = \\frac{1}{\\sigma\\sqrt{2\\pi}}e^{\\frac{-(y-\\mu)^2}{2\n",
    "    \\sigma^2}}; - \\infty < y < \\infty\n",
    "$$\n",
    "\n",
    "at the center points of the frequency groups for the $Y_A$ data in Table 1.3; i.e., for $y= 72, 73, \\ldots, 79$.  Compare these theoretical values with the corresponding relative frequency values."
   ]
  },
  {
   "cell_type": "code",
   "execution_count": null,
   "metadata": {},
   "outputs": [],
   "source": []
  },
  {
   "cell_type": "code",
   "execution_count": null,
   "metadata": {},
   "outputs": [],
   "source": []
  },
  {
   "cell_type": "markdown",
   "metadata": {},
   "source": [
    "# Exercise 1.11"
   ]
  },
  {
   "cell_type": "markdown",
   "metadata": {},
   "source": [
    "Repeat Exercise 1.10 for $Y_B$ data and Table 1.4"
   ]
  },
  {
   "cell_type": "code",
   "execution_count": null,
   "metadata": {},
   "outputs": [],
   "source": []
  },
  {
   "cell_type": "code",
   "execution_count": null,
   "metadata": {},
   "outputs": [],
   "source": []
  },
  {
   "cell_type": "markdown",
   "metadata": {},
   "source": [
    "# Exercise 1.12"
   ]
  },
  {
   "cell_type": "markdown",
   "metadata": {},
   "source": [
    "Using $\\lambda = 1.02$, compute theoretical values of the function $f(x|\\lambda)$ in Eq 4.40 (also Eq 1.4) given below <br> <br>\n",
    "$$\n",
    "f(x|\\lambda) = \\frac{e^{-\\lambda}\\lambda^x}{x!}; x= 0, 1, 2,\\ldots\n",
    "$$\n",
    "\n",
    "at $x= 0, 1, 2, \\ldots 6$ and compare with the corresponding relative frequency values in Table 1.5"
   ]
  },
  {
   "cell_type": "code",
   "execution_count": null,
   "metadata": {},
   "outputs": [],
   "source": []
  }
 ],
 "metadata": {
  "kernelspec": {
   "display_name": "Python 3",
   "language": "python",
   "name": "python3"
  },
  "language_info": {
   "codemirror_mode": {
    "name": "ipython",
    "version": 3
   },
   "file_extension": ".py",
   "mimetype": "text/x-python",
   "name": "python",
   "nbconvert_exporter": "python",
   "pygments_lexer": "ipython3",
   "version": "3.6.4"
  }
 },
 "nbformat": 4,
 "nbformat_minor": 2
}
