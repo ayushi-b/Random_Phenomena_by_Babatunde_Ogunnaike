{
 "cells": [
  {
   "cell_type": "code",
   "execution_count": 2,
   "metadata": {},
   "outputs": [],
   "source": [
    "import pandas as pd\n",
    "import numpy as np\n",
    "from matplotlib import pyplot as plt\n",
    "from IPython.display import Image, HTML, display\n",
    "import math\n",
    "plt.style.use('ggplot')"
   ]
  },
  {
   "cell_type": "code",
   "execution_count": null,
   "metadata": {},
   "outputs": [],
   "source": []
  },
  {
   "cell_type": "markdown",
   "metadata": {},
   "source": [
    "# `EXERCISES`"
   ]
  },
  {
   "cell_type": "markdown",
   "metadata": {},
   "source": [
    "# Exercise 4.1"
   ]
  },
  {
   "cell_type": "markdown",
   "metadata": {},
   "source": [
    "Consider a family that plans to have a total of three children; assuming that they will not have any twins, generate the sample space, $\\Omega$, for the possible outcomes.  By defining the random variable, $X$ as the total number of female children born to this family, obtain the corresponding random variable space, $V$.  Given that this particular family is genetically predisposed to having boys, with a probability, $p=0.75$ of giving birth to a boy, obtain the probability that this family will have three boys and compare it to the probability of having other combinations."
   ]
  },
  {
   "cell_type": "code",
   "execution_count": null,
   "metadata": {},
   "outputs": [],
   "source": []
  },
  {
   "cell_type": "code",
   "execution_count": null,
   "metadata": {},
   "outputs": [],
   "source": []
  },
  {
   "cell_type": "markdown",
   "metadata": {},
   "source": [
    "# Exercise 4.2"
   ]
  },
  {
   "cell_type": "markdown",
   "metadata": {},
   "source": [
    "Revisit Example 4.1 in the text,\n",
    "\n",
    "<table><tr><td><img src=\"../Example4_1.png\" width=500></td></tr></table>\n",
    "\n",
    "and this time, instead of tossing a coin three times, it is tossed 4 times.  Generate the sample space, $\\Omega$; and using the same definition of $X$ as the total number of tails, obtain the random variable space, $V$, and compute anew the probability of $A$, the event that $X=2$."
   ]
  },
  {
   "cell_type": "code",
   "execution_count": null,
   "metadata": {},
   "outputs": [],
   "source": []
  },
  {
   "cell_type": "code",
   "execution_count": null,
   "metadata": {},
   "outputs": [],
   "source": []
  },
  {
   "cell_type": "markdown",
   "metadata": {},
   "source": [
    "# Exercise 4.3"
   ]
  },
  {
   "cell_type": "markdown",
   "metadata": {},
   "source": [
    "Given the spaces $\\Omega$ and $V$ for the double dice toss experiment in Example 4.3 in the text,\n",
    "\n",
    "<table>\n",
    "    <tr>\n",
    "        <td><img src=\"../Example4_3.png\" width=500></td>\n",
    "    </tr>\n",
    "    <tr>\n",
    "        <td><img src=\"../samplespace.png\" width=350></td>\n",
    "    </tr>\n",
    "    <tr>\n",
    "        <td><img src=\"../randomvariable.png\" width=150></td>\n",
    "    </tr>\n",
    "</table>\n",
    "\n",
    "(i) Compute the probability of the event $A$ that $X=7$;"
   ]
  },
  {
   "cell_type": "code",
   "execution_count": null,
   "metadata": {},
   "outputs": [],
   "source": []
  },
  {
   "cell_type": "markdown",
   "metadata": {},
   "source": [
    "(ii) If $B$ is the event that $X=6$, and $C$ the event that $X=10$ **or** $X=11$, compute $P(B)$ and $P(C)$."
   ]
  },
  {
   "cell_type": "code",
   "execution_count": null,
   "metadata": {},
   "outputs": [],
   "source": []
  },
  {
   "cell_type": "code",
   "execution_count": null,
   "metadata": {},
   "outputs": [],
   "source": []
  },
  {
   "cell_type": "markdown",
   "metadata": {},
   "source": [
    "# Exercise 4.4"
   ]
  },
  {
   "cell_type": "markdown",
   "metadata": {},
   "source": [
    "Revisit Example 4.3 in the text on the double dice toss experiment and obtain the complete pdf $f(x)$ for the entire random variable space.   Also obtain the cdf, $F(x)$.  Plot both distribution functions."
   ]
  },
  {
   "cell_type": "code",
   "execution_count": null,
   "metadata": {},
   "outputs": [],
   "source": []
  },
  {
   "cell_type": "code",
   "execution_count": null,
   "metadata": {},
   "outputs": [],
   "source": []
  },
  {
   "cell_type": "markdown",
   "metadata": {},
   "source": [
    "# Exercise 4.5"
   ]
  },
  {
   "cell_type": "markdown",
   "metadata": {},
   "source": [
    "Given the following probability distribution function for a discrete random variable, $X$,\n",
    "\n",
    "<table><tr><td><img src=\"../Prob4_5.png\" width=300></td></tr></table>\n",
    "\n",
    "(i) Obtain the cdf $F(x)$."
   ]
  },
  {
   "cell_type": "code",
   "execution_count": null,
   "metadata": {},
   "outputs": [],
   "source": []
  },
  {
   "cell_type": "markdown",
   "metadata": {},
   "source": [
    "(ii) Obtain $P(X \\le 3)$; $P(X < 3)$; $P(X > 3)$; $P(2 \\le X \\le 4)$"
   ]
  },
  {
   "cell_type": "code",
   "execution_count": null,
   "metadata": {},
   "outputs": [],
   "source": []
  },
  {
   "cell_type": "code",
   "execution_count": null,
   "metadata": {},
   "outputs": [],
   "source": []
  },
  {
   "cell_type": "markdown",
   "metadata": {},
   "source": [
    "# Exercise 4.6"
   ]
  },
  {
   "cell_type": "markdown",
   "metadata": {},
   "source": [
    "A particular **discrete** random variable, $X$, has the cdf\n",
    "\n",
    "$$\n",
    "F(x) = \\left(\\frac{x}{n}\\right)^k; x = 1, 2, \\ldots, n\n",
    "$$\n",
    "\n",
    "where $k$ and $n$ are constants characteristic of the underlying random phenomenon.  Determine $f(x)$, the pdf for this random variable, and, for the specific values $k=2, n=8$, compute and plot $f(x)$ and $F(x)$."
   ]
  },
  {
   "cell_type": "code",
   "execution_count": null,
   "metadata": {},
   "outputs": [],
   "source": []
  },
  {
   "cell_type": "code",
   "execution_count": null,
   "metadata": {},
   "outputs": [],
   "source": []
  },
  {
   "cell_type": "markdown",
   "metadata": {},
   "source": [
    "# Exercise 4.7"
   ]
  },
  {
   "cell_type": "markdown",
   "metadata": {},
   "source": [
    "The random variable, $X$, has the following pdf:\n",
    "\n",
    "$$\n",
    "f(x) = \\left\\{ \\begin{array}{ll}\n",
    "cx & 0<x<1 \\\\\n",
    "0 & \\mbox{otherwise}\n",
    "\\end{array}\n",
    "\\right.\n",
    "$$\n",
    "\n",
    "(i) First obtain the value of the constant, $c$, required for this to be a legitimate pdf, and then obtain an expression for the cdf $F(x)$."
   ]
  },
  {
   "cell_type": "code",
   "execution_count": null,
   "metadata": {},
   "outputs": [],
   "source": []
  },
  {
   "cell_type": "markdown",
   "metadata": {},
   "source": [
    "(ii) Obtain $P(X \\le 1/2)$ and $P(X \\ge 1/2)$."
   ]
  },
  {
   "cell_type": "code",
   "execution_count": null,
   "metadata": {},
   "outputs": [],
   "source": []
  },
  {
   "cell_type": "markdown",
   "metadata": {},
   "source": [
    "(iii) Obtain the value $x_m$ such that\n",
    "\n",
    "$$\n",
    "P(X \\le x_m) = P(X \\ge x_m)\n",
    "$$"
   ]
  },
  {
   "cell_type": "code",
   "execution_count": null,
   "metadata": {},
   "outputs": [],
   "source": []
  },
  {
   "cell_type": "code",
   "execution_count": null,
   "metadata": {},
   "outputs": [],
   "source": []
  },
  {
   "cell_type": "markdown",
   "metadata": {},
   "source": [
    "# Exercise 4.8"
   ]
  },
  {
   "cell_type": "markdown",
   "metadata": {},
   "source": [
    "From the distribution of residence times in an ideal CSTR is given in Eq (4.41) below,\n",
    "\n",
    "$$ f(x) =\\frac{1}{\\tau} e^{-x/\\tau}; 0<x< \\infty $$\n",
    "\n",
    "determine, for a reactor with average residence time, $\\tau=30$ mins, the probability that a reactant molecule \n",
    "\n",
    "(i) spends **less than** 30 mins in the reactor;"
   ]
  },
  {
   "cell_type": "code",
   "execution_count": null,
   "metadata": {},
   "outputs": [],
   "source": []
  },
  {
   "cell_type": "markdown",
   "metadata": {},
   "source": [
    "(ii) spends **more than** 30 mins in the reactor; "
   ]
  },
  {
   "cell_type": "code",
   "execution_count": null,
   "metadata": {},
   "outputs": [],
   "source": []
  },
  {
   "cell_type": "markdown",
   "metadata": {},
   "source": [
    "(iii) spends **less than** ($30 \\ln 2$) mins in the reactor; and"
   ]
  },
  {
   "cell_type": "code",
   "execution_count": null,
   "metadata": {},
   "outputs": [],
   "source": []
  },
  {
   "cell_type": "markdown",
   "metadata": {},
   "source": [
    "(iv) spends **more than** ($30 \\ln 2$) mins in the reactor."
   ]
  },
  {
   "cell_type": "code",
   "execution_count": null,
   "metadata": {},
   "outputs": [],
   "source": []
  },
  {
   "cell_type": "code",
   "execution_count": null,
   "metadata": {},
   "outputs": [],
   "source": []
  },
  {
   "cell_type": "markdown",
   "metadata": {},
   "source": [
    "# Exercise 4.9"
   ]
  },
  {
   "cell_type": "markdown",
   "metadata": {},
   "source": [
    "Determine $E(X)$ for the discrete random variable in Exercise 4.5; for the continuous random variable in Exercise 4.6; and establish that $E(X)$ for the residence time distribution in Eq (4.41) is $\\tau$, thereby justifying why this parameter is known as the `mean residence time.`"
   ]
  },
  {
   "cell_type": "code",
   "execution_count": null,
   "metadata": {},
   "outputs": [],
   "source": []
  },
  {
   "cell_type": "code",
   "execution_count": null,
   "metadata": {},
   "outputs": [],
   "source": []
  },
  {
   "cell_type": "markdown",
   "metadata": {},
   "source": [
    "# Exercise 4.10"
   ]
  },
  {
   "cell_type": "markdown",
   "metadata": {},
   "source": [
    "Show that $E(X)$ exists for the discrete random variable, $X$, with the pdf:\n",
    "\n",
    "$$\n",
    "f(x) = \\frac{4}{x(x+1)(x+2)}; x = 1, 2, \\ldots\n",
    "$$\n",
    "\n",
    "while $E(X)$ **does not** exist for the discrete random random variable with the pdf\n",
    "\n",
    "$$\n",
    "f(x) = \\frac{1}{x(x+1)}; x = 1, 2, \\ldots\n",
    "$$"
   ]
  },
  {
   "cell_type": "code",
   "execution_count": null,
   "metadata": {},
   "outputs": [],
   "source": []
  },
  {
   "cell_type": "code",
   "execution_count": null,
   "metadata": {},
   "outputs": [],
   "source": []
  },
  {
   "cell_type": "markdown",
   "metadata": {},
   "source": [
    "# Exercise 4.11"
   ]
  },
  {
   "cell_type": "markdown",
   "metadata": {},
   "source": [
    "Establish that $E(X) = 1/p$ for a random variable $X$ whose pdf is\n",
    "\n",
    "$$\n",
    "f(x) = p (1 - p)^{x-1}; x= 1,2,3,\\ldots\n",
    "$$\n",
    "\n",
    "by differentiating with respect to $p$ both sides of the expression:\n",
    "\n",
    "$$\n",
    "\\sum_{x=1}^{\\infty} p(1-p)^{x-1} = 1\n",
    "$$"
   ]
  },
  {
   "cell_type": "code",
   "execution_count": null,
   "metadata": {},
   "outputs": [],
   "source": []
  },
  {
   "cell_type": "code",
   "execution_count": null,
   "metadata": {},
   "outputs": [],
   "source": []
  },
  {
   "cell_type": "markdown",
   "metadata": {},
   "source": [
    "# Exercise 4.12"
   ]
  },
  {
   "cell_type": "markdown",
   "metadata": {},
   "source": [
    "From the definition of the mathematical expectation function, $E(.)$, establish that for the random variable, $X$, discrete **or** continuous:\n",
    "\n",
    "$$\n",
    "E[k_1g_1(X) +  k_2 g_2(X)] = k_1 E[g_1(X)] + k_2 E[g_2(X)],\n",
    "$$\n",
    "\n",
    "and that given $E(X) = \\mu$,\n",
    "\n",
    "$$\n",
    "E[(X - \\mu)^3] = E (X^3) - 3 \\mu \\sigma^2 - \\mu^3\n",
    "$$\n",
    "\n",
    "where $\\sigma^2$ is the variance, defined by $\\sigma^2 = Var(X) = E[(X -\n",
    "\\mu)^2]$."
   ]
  },
  {
   "cell_type": "code",
   "execution_count": null,
   "metadata": {},
   "outputs": [],
   "source": []
  },
  {
   "cell_type": "code",
   "execution_count": null,
   "metadata": {},
   "outputs": [],
   "source": []
  },
  {
   "cell_type": "markdown",
   "metadata": {},
   "source": [
    "# Exercise 4.13"
   ]
  },
  {
   "cell_type": "markdown",
   "metadata": {},
   "source": [
    "For two random variables $X$ and $Y$, and a third random variable defined as\n",
    "\n",
    "$$\n",
    "Z = X - Y\n",
    "$$\n",
    "\n",
    "show, from the definition of the expectation function, that regardless of whether the random variables are continuous or discrete,\n",
    "\n",
    "$$\n",
    "E(Z) = E(X) - E(Y) \\nonumber \\\\\n",
    "\\mbox{i.e.,}\\; \\mu_Z = \\mu_X - \\mu_Y\n",
    "$$\n",
    "\n",
    "and that\n",
    "\n",
    "$$\n",
    "Var(Z) = Var(X) + Var(Y)\n",
    "$$\n",
    "\n",
    "when $E[(X-\\mu_X)(Y-\\mu_Y)]=0$ (i.e., when $X$ and $Y$ are **independent**: see Chapter 5)."
   ]
  },
  {
   "cell_type": "code",
   "execution_count": null,
   "metadata": {},
   "outputs": [],
   "source": []
  },
  {
   "cell_type": "code",
   "execution_count": null,
   "metadata": {},
   "outputs": [],
   "source": []
  },
  {
   "cell_type": "markdown",
   "metadata": {},
   "source": [
    "# Exercise 4.14"
   ]
  },
  {
   "cell_type": "markdown",
   "metadata": {},
   "source": [
    "Given that the pdf of a certain discrete random variable $X$ is:\n",
    "\n",
    "$$\n",
    "f(x) = \\frac{\\lambda^x e^{- \\lambda}}{x!} ; x = 0,1,2, \\ldots\n",
    "$$\n",
    "\n",
    "Establish the following results:\n",
    "\n",
    "$$\\sum_{x=0}^{\\infty} f(x) = 1 $$\n",
    "\n",
    "$$ E(X) = \\lambda $$\n",
    "\n",
    "$$ Var(X) = \\lambda $$"
   ]
  },
  {
   "cell_type": "code",
   "execution_count": null,
   "metadata": {},
   "outputs": [],
   "source": []
  },
  {
   "cell_type": "code",
   "execution_count": null,
   "metadata": {},
   "outputs": [],
   "source": []
  },
  {
   "cell_type": "markdown",
   "metadata": {},
   "source": [
    "# Exercise 4.15"
   ]
  },
  {
   "cell_type": "markdown",
   "metadata": {},
   "source": [
    "Obtain the variance and skewness of the discrete random variable in Exercise 4.5 and for the continuous random variable in Exercise 4.6.\n",
    "\n",
    "Which random variable's distribution is skewed and which is symmetric?"
   ]
  },
  {
   "cell_type": "code",
   "execution_count": null,
   "metadata": {},
   "outputs": [],
   "source": []
  },
  {
   "cell_type": "code",
   "execution_count": null,
   "metadata": {},
   "outputs": [],
   "source": []
  },
  {
   "cell_type": "markdown",
   "metadata": {},
   "source": [
    "# Exercise 4.16"
   ]
  },
  {
   "cell_type": "markdown",
   "metadata": {},
   "source": [
    "From the formal definitions of the moment generating function, establish Eqns (4.95) and (4.96)\n",
    "\n",
    "<table><tr><td><img src=\"../Eqn4_95__4_96.png\" width=600></td></tr></table>"
   ]
  },
  {
   "cell_type": "code",
   "execution_count": null,
   "metadata": {},
   "outputs": [],
   "source": []
  },
  {
   "cell_type": "code",
   "execution_count": null,
   "metadata": {},
   "outputs": [],
   "source": []
  },
  {
   "cell_type": "markdown",
   "metadata": {},
   "source": [
    "# Exercise 4.17"
   ]
  },
  {
   "cell_type": "markdown",
   "metadata": {},
   "source": [
    "Given the pdf for the residence time for two identical CSTRs in series as (Eq 4.153)\n",
    "\n",
    "$$\n",
    "f(x) = \\frac{1}{\\tau^2}xe^{-x/\\tau}\n",
    "$$\n",
    "\n",
    "(i) obtain the MGF for this pdf and compare it with that derived in Example 4.7 in the text.\n",
    "\n",
    "<br>\n",
    "<table>\n",
    "    <tr><td><img src=\"../Example4_7.png\" alt=\"Example 4.7\"  width=400></td></tr>\n",
    "    <tr><td><figcaption ><center>Example 4.7</center></figcaption></td></tr>\n",
    "</table>\n",
    "\n",
    "\n",
    "<br>\n",
    "From this comparison, what would you conjecture to be the MGF for the distribution of residence times for $n$ identical CSTRs in series?"
   ]
  },
  {
   "cell_type": "code",
   "execution_count": null,
   "metadata": {},
   "outputs": [],
   "source": []
  },
  {
   "cell_type": "markdown",
   "metadata": {},
   "source": [
    "(ii) Obtain the characteristic function for the pdf in Eq (4.41)\n",
    "\n",
    "<table>\n",
    "    <tr><td><img src=\"../Eqn4_41.png\" alt=\"Equation 4.41\"  width=400></td></tr>\n",
    "</table>\n",
    "\n",
    "for the single CSTR and also for the pdf in Eq (4.153) \n",
    "\n",
    "$$\n",
    "f(x) = \\frac{1}{\\tau^2}xe^{-x/\\tau}\n",
    "$$\n",
    "\n",
    "for two CSTRs.  Compare the two characteristic functions and conjecture what the corresponding characteristic function will be for the distribution of residence times for $n$ identical CSTRs in series."
   ]
  },
  {
   "cell_type": "code",
   "execution_count": null,
   "metadata": {},
   "outputs": [],
   "source": []
  },
  {
   "cell_type": "code",
   "execution_count": null,
   "metadata": {},
   "outputs": [],
   "source": []
  },
  {
   "cell_type": "markdown",
   "metadata": {},
   "source": [
    "# Exercise 4.18"
   ]
  },
  {
   "cell_type": "markdown",
   "metadata": {},
   "source": [
    "Given that $M(t)$ is the moment generating function of a random\n",
    "variable, define the `psi-function,` $\\psi (t)$, as:\n",
    "\n",
    "$$\n",
    "\\psi (t) = \\ln M(t)\n",
    "$$\n",
    "\n",
    "(i) Prove that $\\psi^\\prime (0) = \\mu$, and $\\psi^{\\prime\\prime}(0) = \\sigma^2$,\n",
    "where each prime $\\prime$ indicates differentiation with respect to $t$; and\n",
    "$E(X) = \\mu$, is the mean of the random variable, and  $\\sigma^2$ is the\n",
    "variance, defined by $\\sigma^2 = Var(X) = E[(X - \\mu)^2]$."
   ]
  },
  {
   "cell_type": "code",
   "execution_count": null,
   "metadata": {},
   "outputs": [],
   "source": []
  },
  {
   "cell_type": "markdown",
   "metadata": {},
   "source": [
    "(ii) Given the pdf of a discrete random variable $X$ as:\n",
    "\n",
    "$$\n",
    "f(x) = \\frac{\\lambda^x e^{- \\lambda}}{x!} ; x = 0,1,2, \\ldots\n",
    "$$\n",
    "\n",
    "obtain its $\\psi (t)$ function and show, using the results in (i) above, that\n",
    "the mean and variance of this pdf are identical."
   ]
  },
  {
   "cell_type": "code",
   "execution_count": null,
   "metadata": {},
   "outputs": [],
   "source": []
  },
  {
   "cell_type": "code",
   "execution_count": null,
   "metadata": {},
   "outputs": [],
   "source": []
  },
  {
   "cell_type": "markdown",
   "metadata": {},
   "source": [
    "# Exercise 4.19"
   ]
  },
  {
   "cell_type": "markdown",
   "metadata": {},
   "source": [
    "The pdf for the yield data discussed in  Chapter 1 was postulated as\n",
    "\n",
    "$$\n",
    "f(y) = \\frac{1}{\\sigma\\sqrt{2\\pi}}e^{\\frac{-(y-\\mu)^2}{2\\sigma^2}}; - \\infty < y < \\infty\n",
    "$$\n",
    "\n",
    "If we are given that $\\mu$  is the mean, first establish that the mode is also $\\mu$, and then use the fact that the distribution is perfectly symmetric about $\\mu$ to establish that median is also $\\mu$, hence confirming that for this distribution, the mean, mode and median coincide."
   ]
  },
  {
   "cell_type": "code",
   "execution_count": null,
   "metadata": {},
   "outputs": [],
   "source": []
  },
  {
   "cell_type": "code",
   "execution_count": null,
   "metadata": {},
   "outputs": [],
   "source": []
  },
  {
   "cell_type": "markdown",
   "metadata": {},
   "source": [
    "# Exercise 4.20"
   ]
  },
  {
   "cell_type": "markdown",
   "metadata": {},
   "source": [
    "Given the pdf:\n",
    "\n",
    "$$\n",
    "f(x) = \\frac{1}{\\pi} \\frac{1}{1 + x^2}; - \\infty < x < \\infty\n",
    "$$\n",
    "\n",
    "find the mode and the median and show that they coincide.  **For extra credit**: Establish that $\\mu=E(X)$ does not exist."
   ]
  },
  {
   "cell_type": "code",
   "execution_count": null,
   "metadata": {},
   "outputs": [],
   "source": []
  },
  {
   "cell_type": "code",
   "execution_count": null,
   "metadata": {},
   "outputs": [],
   "source": []
  },
  {
   "cell_type": "markdown",
   "metadata": {},
   "source": [
    "# Exercise 4.21"
   ]
  },
  {
   "cell_type": "markdown",
   "metadata": {},
   "source": [
    "Compute the median and the other quartiles for the random variable whose pdf is given as:\n",
    "\n",
    "$$\n",
    "f(x) = \\left\\{ \\begin{array}{ll}\n",
    "x & 0<x<2 \\\\\n",
    "0 & \\mbox{otherwise}\n",
    "\\end{array}\n",
    "\\right.\n",
    "$$"
   ]
  },
  {
   "cell_type": "markdown",
   "metadata": {},
   "source": [
    "<hr>\n",
    "\n",
    "`Note:  This question is a misprint because the given pdf is not a valid pdf :` $\\int_0^2 f(x) \\, dx \\neq 1$\n",
    "\n",
    "`The limits should be from` $0$ `to` $\\sqrt{2}$. `I'm using the following pdf for this exercise:`\n",
    "\n",
    "$$\n",
    "f(x) = \\left\\{ \\begin{array}{ll}\n",
    "x & 0<x<\\sqrt{2} \\\\\n",
    "0 & \\mbox{otherwise}\n",
    "\\end{array}\n",
    "\\right.\n",
    "$$\n",
    "\n",
    "<hr>"
   ]
  },
  {
   "cell_type": "code",
   "execution_count": null,
   "metadata": {},
   "outputs": [],
   "source": []
  },
  {
   "cell_type": "code",
   "execution_count": null,
   "metadata": {},
   "outputs": [],
   "source": []
  },
  {
   "cell_type": "markdown",
   "metadata": {},
   "source": [
    "# Exercise 4.22"
   ]
  },
  {
   "cell_type": "markdown",
   "metadata": {},
   "source": [
    "Given the binary random variable, $X$, that takes the value 1 with probability $p$, and the value 0 with probability $(1-p)$, so that its pdf is given by\n",
    "\n",
    "$$\n",
    "f(x) = \\left\\{ \\begin{array}{ll} 1-p & x=0; \\\\\n",
    "p & x=1; \\\\\n",
    "0 & \\mbox{elsewhere}.\n",
    "\\end{array} \\right.\n",
    "$$\n",
    "\n",
    "obtain an expression for the entropy ${\\cal H}(X)$ and show that it is maximized when $p=0.5$, taking on the value ${\\cal H}^*(X)=1$ at this point."
   ]
  },
  {
   "cell_type": "code",
   "execution_count": null,
   "metadata": {},
   "outputs": [],
   "source": []
  },
  {
   "cell_type": "code",
   "execution_count": null,
   "metadata": {},
   "outputs": [],
   "source": []
  },
  {
   "cell_type": "markdown",
   "metadata": {},
   "source": [
    "# Exercise 4.23"
   ]
  },
  {
   "cell_type": "markdown",
   "metadata": {},
   "source": [
    "First show that the cumulative hazard function, $H(x)$, for the random variable, $X$, the residence time in a CSTR\n",
    "\n",
    "$$ f(x) =\\frac{1}{\\tau} e^{-x/\\tau}; 0<x< \\infty $$\n",
    "\n",
    "is the linear function,\n",
    "\n",
    "$$\n",
    "H(x) = \\eta x\n",
    "$$\n",
    "\n",
    "(where $\\eta = {1\\over \\tau}$).  Next, for a related random variable, $Y$, whose cumulative hazard function is given by\n",
    "\n",
    "$$\n",
    "H(y) = (\\eta y)^{\\zeta}\n",
    "$$\n",
    "\n",
    "where $\\zeta$ is a constant parameter, show that the corresponding survival function is\n",
    "\n",
    "$$\n",
    "S(y) = e^{-(\\eta x)^\\zeta}\n",
    "$$\n",
    "\n",
    "and from here obtain the pdf, $f(y)$, for this random variable."
   ]
  },
  {
   "cell_type": "markdown",
   "metadata": {},
   "source": [
    "<hr>\n",
    "\n",
    "`Note:  Another possible misprint. I think the last equation should be a function of y and not x:` \n",
    "\n",
    "$$\n",
    "S(y) = e^{-(\\eta \\mathbf{y})^\\zeta}\n",
    "$$\n",
    "\n",
    "`I'm using the above equation for the solution.`\n",
    "\n",
    "<hr>"
   ]
  },
  {
   "cell_type": "code",
   "execution_count": null,
   "metadata": {},
   "outputs": [],
   "source": []
  },
  {
   "cell_type": "code",
   "execution_count": null,
   "metadata": {},
   "outputs": [],
   "source": []
  },
  {
   "cell_type": "markdown",
   "metadata": {},
   "source": [
    "# Exercise 4.24"
   ]
  },
  {
   "cell_type": "markdown",
   "metadata": {},
   "source": [
    "Given the pdf for the residence time for two identical CSTRs in series in Exercise 4.17, Eq (4.153), \n",
    "\n",
    "<table><tr><td><img src=\"../Eqn4_153.png\" width=350></td></tr></table>\n",
    "\n",
    "determine the survival function, $S(x)$, and the hazard function, $h(x)$.  Compare them to the corresponding results obtained for the single CSTR in Example 4.8 and Example 4.9 in the text."
   ]
  },
  {
   "cell_type": "code",
   "execution_count": null,
   "metadata": {},
   "outputs": [],
   "source": []
  },
  {
   "cell_type": "code",
   "execution_count": null,
   "metadata": {},
   "outputs": [],
   "source": []
  }
 ],
 "metadata": {
  "kernelspec": {
   "display_name": "Python 3",
   "language": "python",
   "name": "python3"
  },
  "language_info": {
   "codemirror_mode": {
    "name": "ipython",
    "version": 3
   },
   "file_extension": ".py",
   "mimetype": "text/x-python",
   "name": "python",
   "nbconvert_exporter": "python",
   "pygments_lexer": "ipython3",
   "version": "3.6.4"
  }
 },
 "nbformat": 4,
 "nbformat_minor": 2
}
