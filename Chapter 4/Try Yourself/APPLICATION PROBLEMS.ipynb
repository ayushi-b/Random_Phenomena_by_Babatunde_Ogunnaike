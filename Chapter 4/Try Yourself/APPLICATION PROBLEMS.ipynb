{
 "cells": [
  {
   "cell_type": "code",
   "execution_count": 1,
   "metadata": {},
   "outputs": [],
   "source": [
    "bold = '\\033[1m' \n",
    "end = '\\033[0m'\n",
    "\n",
    "import pandas as pd\n",
    "import numpy as np\n",
    "from matplotlib import pyplot as plt\n",
    "import math\n",
    "plt.style.use('ggplot')"
   ]
  },
  {
   "cell_type": "code",
   "execution_count": 2,
   "metadata": {},
   "outputs": [],
   "source": [
    "prob4_28 = pd.read_excel('Chapter4.xlsx', sheet_name='Prob4_28')"
   ]
  },
  {
   "cell_type": "code",
   "execution_count": 3,
   "metadata": {},
   "outputs": [
    {
     "name": "stdout",
     "output_type": "stream",
     "text": [
      "   income_start  income_stop  population_percent\n",
      "0             0          5.0                   4\n",
      "1             5         10.0                  13\n",
      "2            10         15.0                  17\n",
      "3            15         20.0                  20\n",
      "4            20         25.0                  16\n",
      "(12, 3)\n"
     ]
    }
   ],
   "source": [
    "print(prob4_28.head())\n",
    "print(prob4_28.shape)"
   ]
  },
  {
   "cell_type": "code",
   "execution_count": null,
   "metadata": {},
   "outputs": [],
   "source": []
  },
  {
   "cell_type": "code",
   "execution_count": null,
   "metadata": {},
   "outputs": [],
   "source": []
  },
  {
   "cell_type": "markdown",
   "metadata": {},
   "source": [
    "# `EXERCISES`"
   ]
  },
  {
   "cell_type": "markdown",
   "metadata": {},
   "source": [
    "# Exercise 4.25"
   ]
  },
  {
   "cell_type": "markdown",
   "metadata": {},
   "source": [
    "Before an automobile parts manufacturer takes full delivery of polymer resins made by a supplier in a reactive extrusion process, a sample is processed and the performance is tested for `Toughness`. The batch is either accepted (if the processed sample's `Toughness` equals or exceeds 140 $J/m^3$) or it is rejected. As a result of process and raw material variability, the acceptance/rejection status of each batch varies randomly.  If the supplier sends four batches weekly to the parts manufacturer, and each batch is made independently on the extrusion process, so that the ultimate fate of one batch is independent of the fate of any other batch, define $X$ as the random variable representing the number of acceptable batches a week and answer the following questions:\n",
    "\n",
    "(i) Obtain the sample space, $\\Omega$, and the corresponding random variable space, $V$."
   ]
  },
  {
   "cell_type": "code",
   "execution_count": null,
   "metadata": {},
   "outputs": [],
   "source": []
  },
  {
   "cell_type": "markdown",
   "metadata": {},
   "source": [
    "(ii) First, assume equal probability of acceptance and rejection, and obtain the the pdf, $f(x)$, for the entire sample space.  If, for long term profitability it is necessary that **at least** 3 batches be acceptable per week, what is the probability that the supplier will remain profitable?"
   ]
  },
  {
   "cell_type": "code",
   "execution_count": null,
   "metadata": {},
   "outputs": [],
   "source": []
  },
  {
   "cell_type": "code",
   "execution_count": null,
   "metadata": {},
   "outputs": [],
   "source": []
  },
  {
   "cell_type": "markdown",
   "metadata": {},
   "source": [
    "# Exercise 4.26"
   ]
  },
  {
   "cell_type": "markdown",
   "metadata": {},
   "source": [
    "Revisit Problem 4.25 above and consider that after an extensive process and control system improvement project, the probability of acceptance of a single batch is improved to 0.8; obtain the new pdf, $f(x)$. If the revenue from a single acceptable batch is \\$20,000, but every rejected batch costs the supplier \\$8,000 in retrieval and incineration fees, which will be deducted from the revenue, what is the expected net revenue per week under the current circumstances?"
   ]
  },
  {
   "cell_type": "code",
   "execution_count": null,
   "metadata": {},
   "outputs": [],
   "source": []
  },
  {
   "cell_type": "code",
   "execution_count": null,
   "metadata": {},
   "outputs": [],
   "source": []
  },
  {
   "cell_type": "markdown",
   "metadata": {},
   "source": [
    "# Exercise 4.27"
   ]
  },
  {
   "cell_type": "markdown",
   "metadata": {},
   "source": [
    "A gas station situated on a back country road has only one\n",
    "gasoline pump and one attendant and, on average, receives $\\eta = 3$\n",
    "(cars/hour).  The average rate at which this lone attendant services the cars is\n",
    "$\\zeta$ (cars/hour).  It can be shown that the total number of cars at this gas\n",
    "station at any time (i.e. the one currently being served, and those waiting in\n",
    "line to be served) is the random variable $X$ with the following pdf:\n",
    "\n",
    "$$\n",
    "f(x) = \\left( 1 - \\frac{\\eta}{\\zeta} \\right) \\left( \\frac{\\eta}{\\zeta}\\right)^x;\n",
    "\\; x = 0,1,2, \\ldots\n",
    "$$\n",
    "\n",
    "(i) Show that so long as $\\eta < \\zeta$, the probability that the line at the\n",
    "gas station is infinitely long is **zero**."
   ]
  },
  {
   "cell_type": "code",
   "execution_count": null,
   "metadata": {},
   "outputs": [],
   "source": []
  },
  {
   "cell_type": "markdown",
   "metadata": {},
   "source": [
    "(ii) Find the value of $\\zeta$ required so that the expected value of the total\n",
    "number of cars at the station is 2."
   ]
  },
  {
   "cell_type": "code",
   "execution_count": null,
   "metadata": {},
   "outputs": [],
   "source": []
  },
  {
   "cell_type": "markdown",
   "metadata": {},
   "source": [
    "(iii) Using the $\\zeta$ value obtained in (ii), find the probability that there are **more than** two cars at the station, and also the probability that there are **no** cars."
   ]
  },
  {
   "cell_type": "code",
   "execution_count": null,
   "metadata": {},
   "outputs": [],
   "source": []
  },
  {
   "cell_type": "code",
   "execution_count": null,
   "metadata": {},
   "outputs": [],
   "source": []
  },
  {
   "cell_type": "markdown",
   "metadata": {},
   "source": [
    "# Exercise 4.28"
   ]
  },
  {
   "cell_type": "markdown",
   "metadata": {},
   "source": [
    "The distribution of income of families in the US in 1979 (in actual dollars uncorrected for inflation) is shown in the table below:\n",
    "\n",
    "<table><tr><td><img src=\"../Prob4_28.png\" width=400></td></tr></table>\n",
    "\n",
    "\n",
    "(i) Plot the data histogram and comment on the shape."
   ]
  },
  {
   "cell_type": "code",
   "execution_count": null,
   "metadata": {},
   "outputs": [],
   "source": []
  },
  {
   "cell_type": "markdown",
   "metadata": {},
   "source": [
    "(ii) Using the center of the interval to represent each income group, determine the mean, median, mode; and the variance and skewness for this data set.  Comment on how consistent the numerical values computed for these characteristics are with the shape of the histogram."
   ]
  },
  {
   "cell_type": "code",
   "execution_count": null,
   "metadata": {},
   "outputs": [],
   "source": []
  },
  {
   "cell_type": "markdown",
   "metadata": {},
   "source": [
    "(iii)  If the 1979 population is broadly classified according to income into `Lower Class` for income range (in thousands of dollars) 0--15, `Middle Class` for income range, 15--50 and `Upper Class` for income range $> 50$, what is the probability that two people selected at random and sequentially to participate in a survey from the Census Bureau (in preparation for the 1980 census) are:\n",
    "1. both from the `Lower Class,` \n",
    "2. both from the `Middle Class,` \n",
    "3. one from the `Middle class` and one from the `Upper class,` and \n",
    "4. both from the `Upper class`?"
   ]
  },
  {
   "cell_type": "code",
   "execution_count": null,
   "metadata": {},
   "outputs": [],
   "source": []
  },
  {
   "cell_type": "markdown",
   "metadata": {},
   "source": [
    "(iv) If, in 1979, engineers with **at least** 3 years of college education (excluding graduate students) constitute approximately 1% of the population, (2.2 million out of 223 million) and span the income range from 20--55, determine the probability that an individual selected at random from the population is in the middle class given that he/she is an engineer.  Determine the converse, that the person selected at random is an engineer given that he/she is in the middle class."
   ]
  },
  {
   "cell_type": "code",
   "execution_count": null,
   "metadata": {},
   "outputs": [],
   "source": []
  },
  {
   "cell_type": "code",
   "execution_count": null,
   "metadata": {},
   "outputs": [],
   "source": []
  },
  {
   "cell_type": "markdown",
   "metadata": {},
   "source": [
    "# Exercise 4.29"
   ]
  },
  {
   "cell_type": "markdown",
   "metadata": {},
   "source": [
    "Life-testing results on a first generation microprocessor-based (computer-controlled) toaster indicate that $X$, the life-span (in years) of the central control chip, is a random variable that is reasonably well-modeled by the pdf:\n",
    "\n",
    "$$\n",
    "f(x) = \\frac{1}{\\beta} e^{- x/\\beta}; x > 0\n",
    "$$\n",
    "\n",
    "with $\\beta = 6.25$. A malfunctioning chip will have to be replaced\n",
    "to restore proper toaster operation.\n",
    "\n",
    "(i) The warranty for the chip is to be set at $x_w$ years (in whole integers) such that no\n",
    "more than $15\\%$ would have to be replaced before the warranty period expires.  Find $x_w$."
   ]
  },
  {
   "cell_type": "code",
   "execution_count": null,
   "metadata": {},
   "outputs": [],
   "source": []
  },
  {
   "cell_type": "markdown",
   "metadata": {},
   "source": [
    "(ii) In planning for the second generation toaster, design engineers wish to set a target value to aim for ($\\beta=\\beta_2^*$)  such that $85\\%$ of the second generation chips survive beyond 3 years. Determine $\\beta_2^*$ and interpret your results in terms of the implied `fold increase` in mean life-span from the first to the second generation of chips."
   ]
  },
  {
   "cell_type": "code",
   "execution_count": null,
   "metadata": {},
   "outputs": [],
   "source": []
  },
  {
   "cell_type": "code",
   "execution_count": null,
   "metadata": {},
   "outputs": [],
   "source": []
  },
  {
   "cell_type": "markdown",
   "metadata": {},
   "source": [
    "# Exercise 4.30"
   ]
  },
  {
   "cell_type": "markdown",
   "metadata": {},
   "source": [
    "The probability of a single transferred embryo resulting in a live birth in an in-vitro fertilization treatment, $p$, is given as 0.5 for a younger patient and 0.2 for an older patient.  When $n=5$ embryos are transferred in a single treatment, it is also known that if $X$ is the total number of live births resulting from this treatment, then $E(X) = 2.5$ for the younger patient and $E(X) =1$ for the older patient, and the associated variance, $Var(X) = 1.25$ for the younger and $Var(X) = 0.8$ for the older.\n",
    "\n",
    "(i) Use Markov's inequality and Chebyshev's inequality to obtain bounds on the probability of each patient giving birth to quadruplets or a quintuplets at the end of the treatment."
   ]
  },
  {
   "cell_type": "code",
   "execution_count": null,
   "metadata": {},
   "outputs": [],
   "source": []
  },
  {
   "cell_type": "markdown",
   "metadata": {},
   "source": [
    "(ii) These bounds are known to be quite conservative, but to determine just how conservative , compute the actual probabilities of the stated events for each patient given that an appropriate pdf for $X$ is\n",
    "\n",
    "$$\n",
    "f(x) = \\frac{5!}{x!(5-x)!}p^{x}(1-p)^{5-x}\n",
    "$$\n",
    "\n",
    "where $p$ is as given above.  Compare the actual probabilities with the Markov and Chebychev bounds and identify which bound is sharper."
   ]
  },
  {
   "cell_type": "code",
   "execution_count": null,
   "metadata": {},
   "outputs": [],
   "source": []
  },
  {
   "cell_type": "code",
   "execution_count": null,
   "metadata": {},
   "outputs": [],
   "source": []
  },
  {
   "cell_type": "markdown",
   "metadata": {},
   "source": [
    "# Exercise 4.31"
   ]
  },
  {
   "cell_type": "markdown",
   "metadata": {},
   "source": [
    "The following data table, obtained from the United States Life Tables 1969--71, (published in 1973 by the National Center for Health Statistics) shows the probability of survival until the age of 65 for individuals of the given age:\n",
    "\n",
    "<table><tr><td><img src=\"../Prob4_31.png\" width=250></td></tr></table>\n",
    "\n",
    "The data should be interpreted as follows: the probability that all newborns, and children up to the age of ten survive until 65 years of age is 0.72; for those older than 10 and up to 20 years, the probability of survival to 65 years is 0.74, and so on.\n",
    "\n",
    "Assuming that the data is still valid in 1975, a community cooperative wishes to set up a life insurance program that year whereby each participant pays a relatively small annual premium, $\\$\\alpha$, and, in the event of death before 65 years, a one-time death gratuity payment of  $\\$\\pi$ is made to the participant's designated beneficiary. If the participant survives beyond 65 years, nothing is paid.  If the cooperative is to realize a fixed, modest expected revenue, $\\$R_E = \\$30$, per year, per participant, over the duration of his/her participation (mostly to cover administrative and other costs) provide answers to the following questions:\n",
    "\n",
    "(i) For a policy based on a fixed annual premium of \\$90 for all participants, and age-dependent payout, determine values for $\\pi(y)$, the published payout for a person of age $y$ that dies before age 65, for all values of $y$ listed in this table."
   ]
  },
  {
   "cell_type": "code",
   "execution_count": null,
   "metadata": {},
   "outputs": [],
   "source": []
  },
  {
   "cell_type": "markdown",
   "metadata": {},
   "source": [
    "(ii) For a policy based instead on a fixed death payout of $\\$8,000$, and age-dependent annual premiums,  determine values for $\\alpha(y)$, the published annual premium to be collected each year from a participant of age $y$."
   ]
  },
  {
   "cell_type": "code",
   "execution_count": null,
   "metadata": {},
   "outputs": [],
   "source": []
  },
  {
   "cell_type": "markdown",
   "metadata": {},
   "source": [
    "(iii) If it becomes necessary to increase the expected revenue by $50\\%$ as a result of increased administrative and overhead costs, determine the effect on each of the policies in (i) and (ii) above."
   ]
  },
  {
   "cell_type": "code",
   "execution_count": null,
   "metadata": {},
   "outputs": [],
   "source": []
  },
  {
   "cell_type": "markdown",
   "metadata": {},
   "source": [
    "(iv) If by 1990, the probabilities of survival have increased across the board by 0.05, determine the effect on each of the policies in (i) and (ii)."
   ]
  },
  {
   "cell_type": "code",
   "execution_count": null,
   "metadata": {},
   "outputs": [],
   "source": []
  },
  {
   "cell_type": "code",
   "execution_count": null,
   "metadata": {},
   "outputs": [],
   "source": []
  }
 ],
 "metadata": {
  "kernelspec": {
   "display_name": "Python 3",
   "language": "python",
   "name": "python3"
  },
  "language_info": {
   "codemirror_mode": {
    "name": "ipython",
    "version": 3
   },
   "file_extension": ".py",
   "mimetype": "text/x-python",
   "name": "python",
   "nbconvert_exporter": "python",
   "pygments_lexer": "ipython3",
   "version": "3.6.4"
  }
 },
 "nbformat": 4,
 "nbformat_minor": 2
}
