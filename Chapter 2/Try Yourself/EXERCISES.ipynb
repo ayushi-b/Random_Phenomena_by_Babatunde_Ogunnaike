{
 "cells": [
  {
   "cell_type": "code",
   "execution_count": 1,
   "metadata": {},
   "outputs": [],
   "source": [
    "import pandas as pd\n",
    "import numpy as np\n",
    "from matplotlib import pyplot as plt\n",
    "from IPython.display import Image, HTML, display\n",
    "import math\n",
    "plt.style.use('seaborn-dark-palette')"
   ]
  },
  {
   "cell_type": "code",
   "execution_count": null,
   "metadata": {},
   "outputs": [],
   "source": []
  },
  {
   "cell_type": "markdown",
   "metadata": {},
   "source": [
    "# `EXERCISES`"
   ]
  },
  {
   "cell_type": "markdown",
   "metadata": {},
   "source": [
    "# Exercise 2.1"
   ]
  },
  {
   "cell_type": "markdown",
   "metadata": {},
   "source": [
    "Solve Eq (2.11) :\n",
    "$$\n",
    "\\tau \\frac{dC}{dt} = - C + C_0 \\delta(t)\n",
    "$$\n",
    "\n",
    "\n",
    "explicitly to confirm the result in Eq (2.12):\n",
    "<br>\n",
    "$$\n",
    "C(t) = \\frac{C_0}{\\tau} e^{-t/\\tau}\n",
    "$$"
   ]
  },
  {
   "cell_type": "code",
   "execution_count": null,
   "metadata": {},
   "outputs": [],
   "source": []
  },
  {
   "cell_type": "code",
   "execution_count": null,
   "metadata": {},
   "outputs": [],
   "source": []
  },
  {
   "cell_type": "markdown",
   "metadata": {},
   "source": [
    "# Exercise 2.2"
   ]
  },
  {
   "cell_type": "markdown",
   "metadata": {},
   "source": [
    "Plot the expression in Eq (2.15)\n",
    "$$\n",
    "F(t) = \\int_0^t \\frac{1}{\\tau} e^{-\\theta/\\tau} d\\theta = \\left(1-e^{-t/\\tau}\\right)\n",
    "$$\n",
    "\n",
    "as a function of the scaled time variable, $\\tilde{t} = t/\\tau$; determine the percentage of dye molecules with age less than or equal to the mean residence time, $\\tau$."
   ]
  },
  {
   "cell_type": "code",
   "execution_count": null,
   "metadata": {},
   "outputs": [],
   "source": []
  },
  {
   "cell_type": "code",
   "execution_count": null,
   "metadata": {},
   "outputs": [],
   "source": []
  },
  {
   "cell_type": "markdown",
   "metadata": {},
   "source": [
    "# Exercise 2.3"
   ]
  },
  {
   "cell_type": "markdown",
   "metadata": {},
   "source": [
    "Show that\n",
    "$$\n",
    "\\int_0^{\\infty} \\frac{1}{\\tau} \\theta e^{-\\theta/\\tau}\n",
    "        d\\theta = \\tau\n",
    "$$\n",
    "and hence confirm the result in Eq (2.19)."
   ]
  },
  {
   "cell_type": "code",
   "execution_count": null,
   "metadata": {},
   "outputs": [],
   "source": []
  },
  {
   "cell_type": "code",
   "execution_count": null,
   "metadata": {},
   "outputs": [],
   "source": []
  },
  {
   "cell_type": "markdown",
   "metadata": {},
   "source": [
    "# Exercise 2.4"
   ]
  },
  {
   "cell_type": "markdown",
   "metadata": {},
   "source": [
    "The following probability distribution functions:\n",
    "    $$\n",
    "    f(x) = \\frac{1}{3\\sqrt{2\\pi}}e^{\\frac{-x^2}{18}}; - \\infty < x < \\infty\n",
    "    $$\n",
    "    \n",
    "and\n",
    "    $$\n",
    "    f(y) = \\frac{1}{\\sqrt{2\\pi}}e^{\\frac{-y^2}{2}}; - \\infty < y < \\infty\n",
    "    $$\n",
    "    \n",
    "represent how the occurrences of all the possible outcomes of the two randomly varying, continuous variables, $X$ and $Y$, are distributed. Plot these two distribution functions on the same graph.  Which of these variables has a higher degree of uncertainty associated with the determination of any particular outcome. Why?"
   ]
  },
  {
   "cell_type": "code",
   "execution_count": null,
   "metadata": {},
   "outputs": [],
   "source": []
  },
  {
   "cell_type": "code",
   "execution_count": null,
   "metadata": {},
   "outputs": [],
   "source": []
  },
  {
   "cell_type": "markdown",
   "metadata": {},
   "source": [
    "# Exercise 2.5"
   ]
  },
  {
   "cell_type": "markdown",
   "metadata": {},
   "source": [
    "When a `fair` coin is tossed 4 times, it is postulated that the probability of obtaining $x$ heads is given by the probability distribution function:\n",
    "    $$\n",
    "    f(x) = \\frac{4!}{x!(4-x)!}0.5^4\n",
    "    $$\n",
    "    \n",
    "Determine the probability of obtaining $x=0, 1, 2, \\ldots, 4$ heads.  Intuitively, which of these outcomes would you think will be the `most likely?`  Are the results of your computation consistent with your intuition?"
   ]
  },
  {
   "cell_type": "code",
   "execution_count": null,
   "metadata": {},
   "outputs": [],
   "source": []
  },
  {
   "cell_type": "code",
   "execution_count": null,
   "metadata": {},
   "outputs": [],
   "source": []
  },
  {
   "cell_type": "markdown",
   "metadata": {},
   "source": [
    "# Exercise 2.6"
   ]
  },
  {
   "cell_type": "markdown",
   "metadata": {},
   "source": [
    "In tossing a fair coin once, describe the classical `à-priori`, relative frequency `à-posteriori`, and the subjective perspectives of the probability of obtaining a head."
   ]
  },
  {
   "cell_type": "code",
   "execution_count": null,
   "metadata": {},
   "outputs": [],
   "source": []
  },
  {
   "cell_type": "code",
   "execution_count": null,
   "metadata": {},
   "outputs": [],
   "source": []
  }
 ],
 "metadata": {
  "kernelspec": {
   "display_name": "Python 3",
   "language": "python",
   "name": "python3"
  },
  "language_info": {
   "codemirror_mode": {
    "name": "ipython",
    "version": 3
   },
   "file_extension": ".py",
   "mimetype": "text/x-python",
   "name": "python",
   "nbconvert_exporter": "python",
   "pygments_lexer": "ipython3",
   "version": "3.6.4"
  }
 },
 "nbformat": 4,
 "nbformat_minor": 2
}
